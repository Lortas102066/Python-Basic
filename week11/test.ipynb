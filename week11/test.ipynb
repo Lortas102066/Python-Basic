{
 "cells": [
  {
   "cell_type": "code",
   "execution_count": 3,
   "metadata": {},
   "outputs": [
    {
     "name": "stdout",
     "output_type": "stream",
     "text": [
      "[[0, 0], [0, 1], [1, 0], [1, 1]]\n"
     ]
    }
   ],
   "source": [
    "def rbitlists(n):\n",
    "    \"\"\"Generates list of all bitlists of length n in lexicographic order\n",
    "    using recursion.\n",
    "\n",
    "    For example.\n",
    "    >>> rbitlists(2)\n",
    "    [[0, 0], [0, 1], [1, 0], [1, 1]]\n",
    "    >>> rbitlists(3)\n",
    "    [[0, 0, 0], [0, 0, 1], [0, 1, 0], [0, 1, 1], [1, 0, 0], [1, 0, 1], [1, 1, 0], [1, 1, 1]]\n",
    "\n",
    "    <Write your explanation here>\n",
    "    \"\"\"\n",
    "    pass\n",
    "    if n == 0:\n",
    "        return [[]]\n",
    "    else:\n",
    "        smaller_bitlists = rbitlists(n - 1)\n",
    "        return [[0] + bitlist for bitlist in smaller_bitlists] + [[1] + bitlist for bitlist in smaller_bitlists]\n",
    "    \n",
    "print(rbitlists(2))"
   ]
  },
  {
   "cell_type": "code",
   "execution_count": 4,
   "metadata": {},
   "outputs": [
    {
     "name": "stdout",
     "output_type": "stream",
     "text": [
      "[[1, 2, 3], [1, 3, 2], [2, 1, 3], [2, 3, 1], [3, 1, 2], [3, 2, 1]]\n"
     ]
    }
   ],
   "source": [
    "def rpermutations(lst):\n",
    "    \"\"\" Generates all permutations of input list.\n",
    "    \n",
    "    >>> sorted(rpermutations(list(range(1, 4))))\n",
    "    [[1, 2, 3], [1, 3, 2], [2, 1, 3], [2, 3, 1], [3, 1, 2], [3, 2, 1]]\n",
    "    >>> sorted(rpermutations(list(range(1, 5))))\n",
    "    [[1, 2, 3, 4], [1, 2, 4, 3], [1, 3, 2, 4], [1, 3, 4, 2], [1, 4, 2, 3], [1, 4, 3, 2], [2, 1, 3, 4], [2, 1, 4, 3], [2, 3, 1, 4], [2, 3, 4, 1], [2, 4, 1, 3], [2, 4, 3, 1], [3, 1, 2, 4], [3, 1, 4, 2], [3, 2, 1, 4], [3, 2, 4, 1], [3, 4, 1, 2], [3, 4, 2, 1], [4, 1, 2, 3], [4, 1, 3, 2], [4, 2, 1, 3], [4, 2, 3, 1], [4, 3, 1, 2], [4, 3, 2, 1]]\n",
    "    >>> sorted(rpermutations(list('JOE')))\n",
    "    [['E', 'J', 'O'], ['E', 'O', 'J'], ['J', 'E', 'O'], ['J', 'O', 'E'], ['O', 'E', 'J'], ['O', 'J', 'E']]\n",
    "\n",
    "    <Write your explanation here>\n",
    "    \"\"\"\n",
    "    pass\n",
    "    if len(lst) == 0:\n",
    "        return [[]]\n",
    "    else:\n",
    "        permutations = []\n",
    "        for i in range(len(lst)):\n",
    "            rest = lst[:i] + lst[i+1:]\n",
    "            for p in rpermutations(rest):\n",
    "                permutations.append([lst[i]] + p)\n",
    "        return permutations\n",
    "    \n",
    "print(rpermutations(list(range(1, 4))))"
   ]
  },
  {
   "cell_type": "code",
   "execution_count": null,
   "metadata": {},
   "outputs": [],
   "source": []
  }
 ],
 "metadata": {
  "kernelspec": {
   "display_name": "Python 3",
   "language": "python",
   "name": "python3"
  },
  "language_info": {
   "codemirror_mode": {
    "name": "ipython",
    "version": 3
   },
   "file_extension": ".py",
   "mimetype": "text/x-python",
   "name": "python",
   "nbconvert_exporter": "python",
   "pygments_lexer": "ipython3",
   "version": "3.12.0"
  }
 },
 "nbformat": 4,
 "nbformat_minor": 2
}
