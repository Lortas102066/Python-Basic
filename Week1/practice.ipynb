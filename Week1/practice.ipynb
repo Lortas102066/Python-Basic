{
 "cells": [
  {
   "cell_type": "code",
   "execution_count": 5,
   "metadata": {},
   "outputs": [
    {
     "name": "stdout",
     "output_type": "stream",
     "text": [
      "Hello world\n",
      "mandeep\n"
     ]
    }
   ],
   "source": [
    "print('Hello world')\n",
    "print('mandeep')"
   ]
  },
  {
   "cell_type": "code",
   "execution_count": 6,
   "metadata": {},
   "outputs": [
    {
     "name": "stdout",
     "output_type": "stream",
     "text": [
      "2\n",
      "3\n",
      "4\n"
     ]
    }
   ],
   "source": [
    "list=[2,3,4]\n",
    "for i in list: \n",
    "    print(i)\n",
    "    "
   ]
  },
  {
   "cell_type": "code",
   "execution_count": 7,
   "metadata": {},
   "outputs": [
    {
     "data": {
      "text/plain": [
       "float"
      ]
     },
     "execution_count": 7,
     "metadata": {},
     "output_type": "execute_result"
    }
   ],
   "source": [
    "number = 7.5\n",
    "type(number)"
   ]
  },
  {
   "cell_type": "code",
   "execution_count": 8,
   "metadata": {},
   "outputs": [
    {
     "name": "stdout",
     "output_type": "stream",
     "text": [
      "7\n"
     ]
    }
   ],
   "source": [
    "print(int(number))"
   ]
  },
  {
   "cell_type": "code",
   "execution_count": 9,
   "metadata": {},
   "outputs": [
    {
     "name": "stdout",
     "output_type": "stream",
     "text": [
      "7.5\n"
     ]
    }
   ],
   "source": [
    "print(float(number))"
   ]
  },
  {
   "cell_type": "code",
   "execution_count": 10,
   "metadata": {},
   "outputs": [
    {
     "name": "stdout",
     "output_type": "stream",
     "text": [
      "ahmad\n"
     ]
    },
    {
     "data": {
      "text/plain": [
       "'ahmadahmad'"
      ]
     },
     "execution_count": 10,
     "metadata": {},
     "output_type": "execute_result"
    }
   ],
   "source": [
    "literal = 'ahmad'\n",
    "print(literal)\n",
    "2*literal"
   ]
  },
  {
   "cell_type": "code",
   "execution_count": 11,
   "metadata": {},
   "outputs": [
    {
     "name": "stdout",
     "output_type": "stream",
     "text": [
      "5\n",
      "AHMAD\n"
     ]
    }
   ],
   "source": [
    "print(len(literal))\n",
    "print(literal.upper())"
   ]
  },
  {
   "cell_type": "code",
   "execution_count": 12,
   "metadata": {},
   "outputs": [
    {
     "name": "stdout",
     "output_type": "stream",
     "text": [
      "CheeSy\n"
     ]
    }
   ],
   "source": [
    "string1 = 'Cheese'\n",
    "print(string1.replace('se', 'Sy'))"
   ]
  },
  {
   "cell_type": "code",
   "execution_count": 13,
   "metadata": {},
   "outputs": [
    {
     "name": "stdout",
     "output_type": "stream",
     "text": [
      "3\n"
     ]
    },
    {
     "data": {
      "text/plain": [
       "8"
      ]
     },
     "execution_count": 13,
     "metadata": {},
     "output_type": "execute_result"
    }
   ],
   "source": [
    "#intiger division\n",
    "print(10//3)\n",
    "\n",
    "#float division\n",
    "10/3\n",
    "\n",
    "#power\n",
    "pow(2,3)\n",
    "2**3"
   ]
  },
  {
   "cell_type": "code",
   "execution_count": 4,
   "metadata": {},
   "outputs": [
    {
     "name": "stdout",
     "output_type": "stream",
     "text": [
      "True\n",
      "True\n",
      "True\n"
     ]
    }
   ],
   "source": [
    "x = 3\n",
    "y = 5\n",
    "# a\n",
    "print(0 == (x - x) * x )\n",
    "# b\n",
    "print(4 == x * (y + x) % y )\n",
    "# c\n",
    "print(7.5 == (x * y) / (y - x))"
   ]
  },
  {
   "cell_type": "code",
   "execution_count": 5,
   "metadata": {},
   "outputs": [
    {
     "name": "stdout",
     "output_type": "stream",
     "text": [
      "True\n",
      "True\n",
      "True\n"
     ]
    }
   ],
   "source": [
    "\n",
    "#a\n",
    "print(10 == 10)\n",
    "#b\n",
    "print(10%4 != 12//7)\n",
    "#c\n",
    "print(3**2 != 10-3)"
   ]
  },
  {
   "cell_type": "code",
   "execution_count": 7,
   "metadata": {},
   "outputs": [
    {
     "name": "stdout",
     "output_type": "stream",
     "text": [
      "37.22222222222222\n"
     ]
    }
   ],
   "source": [
    "\n",
    "temp_c = 0\n",
    "temp_f = 99\n",
    "temp_c = (temp_f-32) * 5/9\n",
    "print(temp_c)"
   ]
  },
  {
   "cell_type": "code",
   "execution_count": 11,
   "metadata": {},
   "outputs": [
    {
     "name": "stdout",
     "output_type": "stream",
     "text": [
      "True\n",
      "True\n",
      "True\n",
      "True\n",
      "True\n",
      "True\n",
      "Mitsuki has 7 characters. It starts with M and ends with i.\n"
     ]
    }
   ],
   "source": [
    "x = 3\n",
    "y = 5\n",
    "# Task 1: Maths\n",
    "# Replace the '' in each line with one of [+, -, *, //, %, /, **]\n",
    "# to create a statement that evaluates to True. \n",
    "# For example, (a) can be changed to:\n",
    "0 == (x + x) % x\n",
    "\n",
    "# We start by assigning values to variables x and y\n",
    "\n",
    "\n",
    "# a\n",
    "print(0 == (x - x) * x )\n",
    "# b\n",
    "print(4 == x * (y + x) % y )\n",
    "# c\n",
    "print(7.5 == (x * y) / (y - x))\n",
    "\n",
    "# Task 2: Booleans\n",
    "# Replace the '' in each line with one of [==, !=, <=, >=, <, >]\n",
    "# to create a statement that evaluates to True.\n",
    "# For example, (a) can be changed to:\n",
    "10 <= 10\n",
    "\n",
    "#a\n",
    "print(10 == 10)\n",
    "#b\n",
    "print(10%4 != 12//7)\n",
    "#c\n",
    "print(3**2 != 10-3)\n",
    "\n",
    "# Task 3: Temperature Conversion\n",
    "# Replace the '' with a numerical expression that converts the\n",
    "# temperature in Fahrenheit (temp_f) to the temperature in Celsius.\n",
    "# For instance, if Celsius were 3 degrees more than Fahrenheit (incorrect!),\n",
    "# the implementation would be:\n",
    "# temp_c = temp_f + 3\n",
    "\n",
    "temp_c = 0\n",
    "temp_f = 70\n",
    "temp_c = (temp_f-32) * 5/9\n",
    "\n",
    "# Task 4: Name Factoids\n",
    "# Replace the '' with an expression that evaluates to a string with\n",
    "# the following pattern:\n",
    "# factoids = '<name> has <number of letters>. It starts with <letter> and ends with <letter>.'\n",
    "# For example, if you do not change the given name, factoids would\n",
    "# evaluate to:\n",
    "#     'Jane has 4 letters. It starts with J and ends with e.'\n",
    "# NOTE: You must implement factoids so that it would work for any value\n",
    "#       assigned to name.\n",
    "\n",
    "name = 'Mitsuki'\n",
    "factoids = len(name)\n",
    "first = name[0]\n",
    "last = name[-1]\n",
    "print(name + \" has \" + str(factoids) + \" characters. It starts with \" + first + \" and ends with \" + last + \".\")\n",
    "\n",
    "\n",
    "# Task 5: Coin Flip (Extension task)\n",
    "# THIS TASK IS OPTIONAL\n",
    "\n",
    "# Replace the '' with any necessary import statements\n",
    "''\n",
    "\n",
    "def flip(bias):\n",
    "    return None\n"
   ]
  },
  {
   "cell_type": "code",
   "execution_count": null,
   "metadata": {},
   "outputs": [],
   "source": []
  }
 ],
 "metadata": {
  "kernelspec": {
   "display_name": "base",
   "language": "python",
   "name": "python3"
  },
  "language_info": {
   "codemirror_mode": {
    "name": "ipython",
    "version": 3
   },
   "file_extension": ".py",
   "mimetype": "text/x-python",
   "name": "python",
   "nbconvert_exporter": "python",
   "pygments_lexer": "ipython3",
   "version": "3.11.4"
  }
 },
 "nbformat": 4,
 "nbformat_minor": 2
}
