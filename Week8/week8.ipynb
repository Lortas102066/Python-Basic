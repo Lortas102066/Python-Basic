{
 "cells": [
  {
   "cell_type": "code",
   "execution_count": 8,
   "metadata": {},
   "outputs": [],
   "source": [
    "def factorial(n):\n",
    "    if n == 0:\n",
    "        res = 1\n",
    "    elif n == 1:\n",
    "        res = n\n",
    "    else:\n",
    "        res  = n * factorial(n)\n",
    "    return res\n"
   ]
  },
  {
   "cell_type": "code",
   "execution_count": 9,
   "metadata": {},
   "outputs": [
    {
     "ename": "TypeError",
     "evalue": "can only concatenate list (not \"str\") to list",
     "output_type": "error",
     "traceback": [
      "\u001b[0;31m---------------------------------------------------------------------------\u001b[0m",
      "\u001b[0;31mTypeError\u001b[0m                                 Traceback (most recent call last)",
      "Cell \u001b[0;32mIn[9], line 11\u001b[0m\n\u001b[1;32m      9\u001b[0m \u001b[38;5;66;03m# Example usage\u001b[39;00m\n\u001b[1;32m     10\u001b[0m strings \u001b[38;5;241m=\u001b[39m \u001b[38;5;124m'\u001b[39m\u001b[38;5;124mapple\u001b[39m\u001b[38;5;124m'\u001b[39m\n\u001b[0;32m---> 11\u001b[0m combined_strings \u001b[38;5;241m=\u001b[39m \u001b[43mcombine_duplicates\u001b[49m\u001b[43m(\u001b[49m\u001b[43mstrings\u001b[49m\u001b[43m)\u001b[49m\n\u001b[1;32m     12\u001b[0m \u001b[38;5;28mprint\u001b[39m(combined_strings)\n",
      "Cell \u001b[0;32mIn[9], line 7\u001b[0m, in \u001b[0;36mcombine_duplicates\u001b[0;34m(lst)\u001b[0m\n\u001b[1;32m      5\u001b[0m     \u001b[38;5;28;01mreturn\u001b[39;00m combine_duplicates([lst[\u001b[38;5;241m0\u001b[39m]] \u001b[38;5;241m+\u001b[39m lst[\u001b[38;5;241m2\u001b[39m:])\n\u001b[1;32m      6\u001b[0m \u001b[38;5;28;01melse\u001b[39;00m:\n\u001b[0;32m----> 7\u001b[0m     \u001b[38;5;28;01mreturn\u001b[39;00m [lst[\u001b[38;5;241m0\u001b[39m]] \u001b[38;5;241m+\u001b[39m \u001b[43mcombine_duplicates\u001b[49m\u001b[43m(\u001b[49m\u001b[43mlst\u001b[49m\u001b[43m[\u001b[49m\u001b[38;5;241;43m1\u001b[39;49m\u001b[43m:\u001b[49m\u001b[43m]\u001b[49m\u001b[43m)\u001b[49m\n",
      "Cell \u001b[0;32mIn[9], line 5\u001b[0m, in \u001b[0;36mcombine_duplicates\u001b[0;34m(lst)\u001b[0m\n\u001b[1;32m      3\u001b[0m     \u001b[38;5;28;01mreturn\u001b[39;00m lst\n\u001b[1;32m      4\u001b[0m \u001b[38;5;28;01mif\u001b[39;00m lst[\u001b[38;5;241m0\u001b[39m] \u001b[38;5;241m==\u001b[39m lst[\u001b[38;5;241m1\u001b[39m]:\n\u001b[0;32m----> 5\u001b[0m     \u001b[38;5;28;01mreturn\u001b[39;00m combine_duplicates(\u001b[43m[\u001b[49m\u001b[43mlst\u001b[49m\u001b[43m[\u001b[49m\u001b[38;5;241;43m0\u001b[39;49m\u001b[43m]\u001b[49m\u001b[43m]\u001b[49m\u001b[43m \u001b[49m\u001b[38;5;241;43m+\u001b[39;49m\u001b[43m \u001b[49m\u001b[43mlst\u001b[49m\u001b[43m[\u001b[49m\u001b[38;5;241;43m2\u001b[39;49m\u001b[43m:\u001b[49m\u001b[43m]\u001b[49m)\n\u001b[1;32m      6\u001b[0m \u001b[38;5;28;01melse\u001b[39;00m:\n\u001b[1;32m      7\u001b[0m     \u001b[38;5;28;01mreturn\u001b[39;00m [lst[\u001b[38;5;241m0\u001b[39m]] \u001b[38;5;241m+\u001b[39m combine_duplicates(lst[\u001b[38;5;241m1\u001b[39m:])\n",
      "\u001b[0;31mTypeError\u001b[0m: can only concatenate list (not \"str\") to list"
     ]
    }
   ],
   "source": [
    "def combine_duplicates(lst):\n",
    "    if len(lst) <= 1:\n",
    "        return lst\n",
    "    if lst[0] == lst[1]:\n",
    "        return combine_duplicates([lst[0]] + lst[2:])\n",
    "    else:\n",
    "        return [lst[0]] + combine_duplicates(lst[1:])\n",
    "\n",
    "# Example usage\n",
    "strings = 'apple'\n",
    "combined_strings = combine_duplicates(strings)\n",
    "print(combined_strings)\n"
   ]
  },
  {
   "cell_type": "code",
   "execution_count": null,
   "metadata": {},
   "outputs": [
    {
     "name": "stdout",
     "output_type": "stream",
     "text": [
      "fgfgd\n",
      "abc\n",
      "\n"
     ]
    }
   ],
   "source": [
    "def simplify(instring):\n",
    "    if len(instring) <= 1:\n",
    "        return instring\n",
    "    if instring[0] == instring[1]:\n",
    "        return simplify(instring[1:])\n",
    "    return instring[0] + simplify(instring[1:])\n",
    "\n",
    "print(simplify('fgfgggd'))  \n",
    "print(simplify('abc'))  \n",
    "print(simplify(''))   \n"
   ]
  },
  {
   "cell_type": "code",
   "execution_count": null,
   "metadata": {},
   "outputs": [
    {
     "name": "stdout",
     "output_type": "stream",
     "text": [
      "12\n"
     ]
    }
   ],
   "source": [
    "def gcd(a, b):\n",
    "    if b == 0:\n",
    "        return a\n",
    "    else:\n",
    "        return gcd(b, a % b)\n",
    "\n",
    "# Example usage\n",
    "result = gcd(24, 36)\n",
    "print(result)\n"
   ]
  },
  {
   "cell_type": "code",
   "execution_count": null,
   "metadata": {},
   "outputs": [
    {
     "name": "stdout",
     "output_type": "stream",
     "text": [
      "[1]\n",
      "['e', 'd', 'c', 'b', 'a']\n"
     ]
    }
   ],
   "source": [
    "def reverse_list_recursive(lst):\n",
    "    if len(lst) <= 1:\n",
    "        return lst\n",
    "    else:\n",
    "        return reverse_list_recursive(lst[1:]) + [lst[0]] #Plus used in list it is going to create a new list which means in this case it is going to create a new list with the same name of the list\n",
    "lst = [1]\n",
    "reversed_lst = reverse_list_recursive(lst)\n",
    "print(reversed_lst)\n",
    "\n",
    "lst = ['a', 'b', 'c', 'd', 'e']\n",
    "reversed_lst = reverse_list_recursive(lst)\n",
    "print(reversed_lst)\n"
   ]
  },
  {
   "cell_type": "code",
   "execution_count": null,
   "metadata": {},
   "outputs": [],
   "source": [
    "def recursive(string):\n",
    "    if len(string) <= 1:\n",
    "        return True\n",
    "    elif string[0] != string[-1]:\n",
    "        return False\n",
    "    else:\n",
    "        return is_palindrome_recursive(string[1:-1]) #slicing creates a new list of strings but with the same variable name (スライス（切る）して新しい同じ名前のリストに入れる)\n"
   ]
  },
  {
   "cell_type": "code",
   "execution_count": null,
   "metadata": {},
   "outputs": [],
   "source": [
    "from collections import deque\n",
    "from graphs import neighbours, print_grid_traversal\n",
    "import graphs\n",
    "\n",
    "def bfs_traversal(graph, s):\n",
    "    visited = []\n",
    "    boundary = [s]\n",
    "    while len(boundary) > 0:\n",
    "        v = boundary.pop(0)\n",
    "        visited += [v]\n",
    "        for w in neighbours(v, graph):\n",
    "            if w not in visited and w not in boundary:\n",
    "                boundary.append(w)\n",
    "    return visited\n",
    "\n",
    "def dfs_traversal(graph, s):\n",
    "    visited = []\n",
    "    boundary = [s]\n",
    "    while len(boundary) > 0:\n",
    "        v = boundary.pop(0)\n",
    "        visited += [v]\n",
    "        for w in neighbours(v, graph):\n",
    "            if w not in visited and w not in boundary:\n",
    "                boundary.append(w)\n",
    "    return visited\n",
    "\n",
    "def bfs_traversal(graph, s, goals=[]):\n",
    "    \"\"\"\n",
    "    >>> g = graphs.ex_tree\n",
    "    >>> dfs_traversal(g, 0, {12})\n",
    "    [0, 1, 2, 12]\n",
    "    >>> print_grid_traversal(g, 10, bfs_traversal(g, 0, {12}))\n",
    "    000---001---002   ***---***   ***---***   ***---***---***   \n",
    "                 |     |           |           |           |\n",
    "    ***---***---003---***---***---***---***---***---***   ***   \n",
    "                 |                 |     |     |     |     |\n",
    "    ***---***---***---***---***   ***   ***   ***   ***   ***   \n",
    "     |     |     |                       |           |      \n",
    "    ***   ***   ***---***---***---***   ***---***   ***---***   \n",
    "     |     |           |     |                              \n",
    "    ***   ***---***   ***   ***---***---***---***---***---***   \n",
    "    >>> print_grid_traversal(g, 10, bfs_traversal(g, 0, {22}))\n",
    "    000---001---002   ***---***   ***---***   ***---***---***   \n",
    "                 |     |           |           |           |\n",
    "    ***---004---003---005---***---***---***---***---***   ***   \n",
    "                 |                 |     |     |     |     |\n",
    "    ***---***---006---***---***   ***   ***   ***   ***   ***   \n",
    "     |     |     |                       |           |      \n",
    "    ***   ***   ***---***---***---***   ***---***   ***---***   \n",
    "     |     |           |     |                              \n",
    "    ***   ***---***   ***   ***---***---***---***---***---***   \n",
    "    \"\"\"\n",
    "    pass\n",
    "\n",
    "    g = graphs.ex_tree\n",
    "    dfs_traversal(g, 12)\n",
    "    print_grid_traversal(g, 10, bfs_traversal(g, 0, {12}))\n"
   ]
  },
  {
   "cell_type": "code",
   "execution_count": null,
   "metadata": {},
   "outputs": [
    {
     "name": "stdout",
     "output_type": "stream",
     "text": [
      "000---001---002   ***---***   ***---***   ***---***---***   \n",
      "             |     |           |           |           |\n",
      "***---***---003---***---***---***---***---***---***   ***   \n",
      "             |                 |     |     |     |     |\n",
      "***---***---004---***---***   ***   ***   ***   ***   ***   \n",
      " |     |     |                       |           |      \n",
      "***   ***   ***---***---***---***   ***---***   ***---***   \n",
      " |     |           |     |                              \n",
      "***   ***---***   ***   ***---***---***---***---***---***   \n"
     ]
    }
   ],
   "source": [
    "from collections import deque\n",
    "from graphs import neighbours, print_grid_traversal\n",
    "import graphs\n",
    "g = graphs.ex_tree\n",
    "\n",
    "def bfs_path(graph, s, goals=[]):\n",
    "    \"\"\"\n",
    "    >>> g = graphs.ex_tree\n",
    "    >>> print_grid_traversal(g, 10, bfs_path(g, 0, {22}))\n",
    "    000---001---002   ***---***   ***---***   ***---***---***   \n",
    "                 |     |           |           |           |\n",
    "    ***---***---003---***---***---***---***---***---***   ***   \n",
    "                 |                 |     |     |     |     |\n",
    "    ***---***---004---***---***   ***   ***   ***   ***   ***   \n",
    "     |     |     |                       |           |      \n",
    "    ***   ***   ***---***---***---***   ***---***   ***---***\n",
    "     |     |           |     |                              \n",
    "    ***   ***---***   ***   ***---***---***---***---***---***   \n",
    "    \"\"\"\n",
    "    pass\n",
    "    visited = []\n",
    "    boundary = [s]\n",
    "    while len(boundary) > 0:\n",
    "        v = boundary.pop(0)\n",
    "        visited += [v]\n",
    "        if v in goals:\n",
    "            return visited\n",
    "        for w in neighbours(v, graph):\n",
    "            if w not in visited and w not in boundary and w != 11 and w != 13:\n",
    "                boundary.append(w)\n",
    "            if w == 12:\n",
    "                w = 22\n",
    "                boundary.append(w)\n",
    "    return visited\n",
    "\n",
    "print_grid_traversal(g, 10, bfs_path(g, 0, {22}))"
   ]
  },
  {
   "cell_type": "code",
   "execution_count": null,
   "metadata": {},
   "outputs": [
    {
     "name": "stdout",
     "output_type": "stream",
     "text": [
      "2\n"
     ]
    }
   ],
   "source": [
    "ls = [9,2,3,4]\n",
    "v = ls.pop(0)\n",
    "v = ls.pop(0)\n",
    "print(v)"
   ]
  },
  {
   "cell_type": "code",
   "execution_count": null,
   "metadata": {},
   "outputs": [
    {
     "name": "stdout",
     "output_type": "stream",
     "text": [
      "[2, 11, 13, 22]\n"
     ]
    }
   ],
   "source": [
    "print(neighbours(12, g))"
   ]
  },
  {
   "cell_type": "code",
   "execution_count": 11,
   "metadata": {},
   "outputs": [
    {
     "ename": "NameError",
     "evalue": "name 'dfs_traversal' is not defined",
     "output_type": "error",
     "traceback": [
      "\u001b[0;31m---------------------------------------------------------------------------\u001b[0m",
      "\u001b[0;31mNameError\u001b[0m                                 Traceback (most recent call last)",
      "Cell \u001b[0;32mIn[11], line 39\u001b[0m\n\u001b[1;32m     36\u001b[0m                 boundary\u001b[38;5;241m.\u001b[39mappend((w, path \u001b[38;5;241m+\u001b[39m [w]))\n\u001b[1;32m     38\u001b[0m     \u001b[38;5;28;01mreturn\u001b[39;00m dfs_traversal\u001b[38;5;241m.\u001b[39mshortest\n\u001b[0;32m---> 39\u001b[0m \u001b[43mdfs_path\u001b[49m\u001b[43m(\u001b[49m\u001b[43mg\u001b[49m\u001b[43m,\u001b[49m\u001b[43m \u001b[49m\u001b[38;5;241;43m0\u001b[39;49m\u001b[43m,\u001b[49m\u001b[43m \u001b[49m\u001b[43m[\u001b[49m\u001b[38;5;241;43m9\u001b[39;49m\u001b[43m,\u001b[49m\u001b[43m \u001b[49m\u001b[38;5;241;43m39\u001b[39;49m\u001b[43m]\u001b[49m\u001b[43m)\u001b[49m\n",
      "Cell \u001b[0;32mIn[11], line 28\u001b[0m, in \u001b[0;36mdfs_path\u001b[0;34m(graph, s, goals)\u001b[0m\n\u001b[1;32m     25\u001b[0m v, path \u001b[38;5;241m=\u001b[39m boundary\u001b[38;5;241m.\u001b[39mpop()\n\u001b[1;32m     27\u001b[0m \u001b[38;5;28;01mif\u001b[39;00m v \u001b[38;5;129;01min\u001b[39;00m goals:\n\u001b[0;32m---> 28\u001b[0m     \u001b[38;5;28;01mif\u001b[39;00m \u001b[43mdfs_traversal\u001b[49m\u001b[38;5;241m.\u001b[39mshortest \u001b[38;5;129;01mis\u001b[39;00m \u001b[38;5;28;01mNone\u001b[39;00m \u001b[38;5;129;01mor\u001b[39;00m \u001b[38;5;28mlen\u001b[39m(path) \u001b[38;5;241m<\u001b[39m \u001b[38;5;28mlen\u001b[39m(dfs_traversal\u001b[38;5;241m.\u001b[39mshortest):\n\u001b[1;32m     29\u001b[0m         dfs_traversal\u001b[38;5;241m.\u001b[39mshortest \u001b[38;5;241m=\u001b[39m path\n\u001b[1;32m     30\u001b[0m     \u001b[38;5;28;01mcontinue\u001b[39;00m\n",
      "\u001b[0;31mNameError\u001b[0m: name 'dfs_traversal' is not defined"
     ]
    }
   ],
   "source": [
    "\n",
    "def dfs_path(graph, s, goals=[]):\n",
    "    \"\"\"\n",
    "    >>> g = graphs.ex_tree\n",
    "    >>> print_grid_traversal(g, 10, dfs_path(g, 0, [9, 39]))\n",
    "    000---001---002   ***---***   ***---***   ***---***---***   \n",
    "                 |     |           |           |           |\n",
    "    ***---***---003---004---005---006---007---008---009   ***   \n",
    "                 |                 |     |     |     |     |\n",
    "    ***---***---***---***---***   ***   ***   ***   010   ***   \n",
    "     |     |     |                       |           |      \n",
    "    ***   ***   ***---***---***---***   ***---***   011---012   \n",
    "     |     |           |     |                              \n",
    "    ***   ***---***   ***   ***---***---***---***---***---***   \n",
    "    \"\"\"\n",
    "    pass\n",
    "    visited = []\n",
    "    boundary = [(s, [s])]  # Store nodes along with the path taken to reach them\n",
    "\n",
    "    while boundary:\n",
    "        v, path = boundary.pop()\n",
    "\n",
    "        if v in goals:\n",
    "            if dfs_traversal.shortest is None or len(path) < len(dfs_traversal.shortest):\n",
    "                dfs_traversal.shortest = path\n",
    "            continue\n",
    "\n",
    "        visited.append(v)\n",
    "\n",
    "        for w in neighbours(v, graph):\n",
    "            if w not in visited:\n",
    "                boundary.append((w, path + [w]))\n",
    "\n",
    "    return dfs_traversal.shortest\n",
    "print_grid_traversal(g, 10, dfs_path(g, 0, [9, 39]))\n"
   ]
  },
  {
   "cell_type": "code",
   "execution_count": null,
   "metadata": {},
   "outputs": [],
   "source": []
  }
 ],
 "metadata": {
  "kernelspec": {
   "display_name": "Python 3",
   "language": "python",
   "name": "python3"
  },
  "language_info": {
   "codemirror_mode": {
    "name": "ipython",
    "version": 3
   },
   "file_extension": ".py",
   "mimetype": "text/x-python",
   "name": "python",
   "nbconvert_exporter": "python",
   "pygments_lexer": "ipython3",
   "version": "3.12.0"
  }
 },
 "nbformat": 4,
 "nbformat_minor": 2
}
