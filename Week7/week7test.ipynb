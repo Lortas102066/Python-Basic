{
 "cells": [
  {
   "cell_type": "code",
   "execution_count": 3,
   "metadata": {},
   "outputs": [
    {
     "data": {
      "text/plain": [
       "2"
      ]
     },
     "execution_count": 3,
     "metadata": {},
     "output_type": "execute_result"
    }
   ],
   "source": [
    "def gcd_brute_force(a, b):\n",
    "    \"\"\" Input : integers a and b such that not a==b==0 \n",
    "    Output: the greatest common divisor of a and b\n",
    "    \"\"\"\n",
    "    x = min(a, b)\n",
    "    while not (a % x == 0 and b % x == 0): \n",
    "        x = x - 1\n",
    "    return x\n",
    "\n",
    "gcd_brute_force (10,8)"
   ]
  },
  {
   "cell_type": "code",
   "execution_count": 2,
   "metadata": {},
   "outputs": [
    {
     "name": "stdout",
     "output_type": "stream",
     "text": [
      "[6, 5, 7, 33, 4, 2, 34, 4]\n"
     ]
    }
   ],
   "source": [
    "import random\n",
    "def merge(lst1, lst2):\n",
    "    merged = []\n",
    "    i = 0\n",
    "    j = 0\n",
    "    \n",
    "    while i < len(lst1) and j < len(lst2):\n",
    "        if lst1[i] < lst2[j]:\n",
    "            merged.append(lst1[i])\n",
    "            i += 1\n",
    "        else:\n",
    "            merged.append(lst2[j])\n",
    "            j += 1\n",
    "    \n",
    "    while i < len(lst1):\n",
    "        merged.append(lst1[i])\n",
    "        i += 1\n",
    "    \n",
    "    while j < len(lst2):\n",
    "        merged.append(lst2[j])\n",
    "        j += 1\n",
    "    \n",
    "    return merged\n",
    "\n",
    "lst1 = [6,5,34,4]\n",
    "lst2 = [7,33,4,2]\n",
    "\n",
    "result = merge(lst1, lst2)\n",
    "\n",
    "print(result)\n",
    "\n"
   ]
  },
  {
   "cell_type": "code",
   "execution_count": 12,
   "metadata": {},
   "outputs": [
    {
     "ename": "ValueError",
     "evalue": "stmt is neither a string nor callable",
     "output_type": "error",
     "traceback": [
      "\u001b[0;31m---------------------------------------------------------------------------\u001b[0m",
      "\u001b[0;31mValueError\u001b[0m                                Traceback (most recent call last)",
      "\u001b[1;32m/Users/mitsukismacbookpro/Desktop/Monash/Python and Algorithems/Week7/week7test.ipynb Cell 3\u001b[0m line \u001b[0;36m6\n\u001b[1;32m     <a href='vscode-notebook-cell:/Users/mitsukismacbookpro/Desktop/Monash/Python%20and%20Algorithems/Week7/week7test.ipynb#W4sZmlsZQ%3D%3D?line=64'>65</a>\u001b[0m     \u001b[39mreturn\u001b[39;00m merge(left, right)\n\u001b[1;32m     <a href='vscode-notebook-cell:/Users/mitsukismacbookpro/Desktop/Monash/Python%20and%20Algorithems/Week7/week7test.ipynb#W4sZmlsZQ%3D%3D?line=66'>67</a>\u001b[0m merge_sort([\u001b[39m11\u001b[39m, \u001b[39m0\u001b[39m, \u001b[39m1\u001b[39m, \u001b[39m5\u001b[39m, \u001b[39m7\u001b[39m, \u001b[39m2\u001b[39m])\n\u001b[0;32m---> <a href='vscode-notebook-cell:/Users/mitsukismacbookpro/Desktop/Monash/Python%20and%20Algorithems/Week7/week7test.ipynb#W4sZmlsZQ%3D%3D?line=67'>68</a>\u001b[0m timeit\u001b[39m.\u001b[39;49mtimeit(merge_sort([\u001b[39m11\u001b[39;49m, \u001b[39m0\u001b[39;49m, \u001b[39m1\u001b[39;49m, \u001b[39m5\u001b[39;49m, \u001b[39m7\u001b[39;49m, \u001b[39m2\u001b[39;49m]))\n",
      "File \u001b[0;32m/Library/Frameworks/Python.framework/Versions/3.12/lib/python3.12/timeit.py:237\u001b[0m, in \u001b[0;36mtimeit\u001b[0;34m(stmt, setup, timer, number, globals)\u001b[0m\n\u001b[1;32m    234\u001b[0m \u001b[39mdef\u001b[39;00m \u001b[39mtimeit\u001b[39m(stmt\u001b[39m=\u001b[39m\u001b[39m\"\u001b[39m\u001b[39mpass\u001b[39m\u001b[39m\"\u001b[39m, setup\u001b[39m=\u001b[39m\u001b[39m\"\u001b[39m\u001b[39mpass\u001b[39m\u001b[39m\"\u001b[39m, timer\u001b[39m=\u001b[39mdefault_timer,\n\u001b[1;32m    235\u001b[0m            number\u001b[39m=\u001b[39mdefault_number, \u001b[39mglobals\u001b[39m\u001b[39m=\u001b[39m\u001b[39mNone\u001b[39;00m):\n\u001b[1;32m    236\u001b[0m \u001b[39m    \u001b[39m\u001b[39m\"\"\"Convenience function to create Timer object and call timeit method.\"\"\"\u001b[39;00m\n\u001b[0;32m--> 237\u001b[0m     \u001b[39mreturn\u001b[39;00m Timer(stmt, setup, timer, \u001b[39mglobals\u001b[39;49m)\u001b[39m.\u001b[39mtimeit(number)\n",
      "File \u001b[0;32m/Library/Frameworks/Python.framework/Versions/3.12/lib/python3.12/timeit.py:132\u001b[0m, in \u001b[0;36mTimer.__init__\u001b[0;34m(self, stmt, setup, timer, globals)\u001b[0m\n\u001b[1;32m    130\u001b[0m     stmt \u001b[39m=\u001b[39m \u001b[39m'\u001b[39m\u001b[39m_stmt()\u001b[39m\u001b[39m'\u001b[39m\n\u001b[1;32m    131\u001b[0m \u001b[39melse\u001b[39;00m:\n\u001b[0;32m--> 132\u001b[0m     \u001b[39mraise\u001b[39;00m \u001b[39mValueError\u001b[39;00m(\u001b[39m\"\u001b[39m\u001b[39mstmt is neither a string nor callable\u001b[39m\u001b[39m\"\u001b[39m)\n\u001b[1;32m    133\u001b[0m src \u001b[39m=\u001b[39m template\u001b[39m.\u001b[39mformat(stmt\u001b[39m=\u001b[39mstmt, setup\u001b[39m=\u001b[39msetup, init\u001b[39m=\u001b[39minit)\n\u001b[1;32m    134\u001b[0m \u001b[39mself\u001b[39m\u001b[39m.\u001b[39msrc \u001b[39m=\u001b[39m src  \u001b[39m# Save for traceback display\u001b[39;00m\n",
      "\u001b[0;31mValueError\u001b[0m: stmt is neither a string nor callable"
     ]
    }
   ],
   "source": [
    "import timeit\n",
    "def merge(lst1, lst2):\n",
    "    \"\"\"\n",
    "    Input: Two sorted lists lst1, lst2\n",
    "    Output: One sorted list 'res' merged together\n",
    "    >>> merge([1, 2, 4, 6], [3, 5, 7, 8])\n",
    "    [1, 2, 3, 4, 5, 6, 7, 8]\n",
    "\n",
    "    >>> merge([1, 2, 3], [4, 5, 6])\n",
    "    [1, 2, 3, 4, 5, 6]\n",
    "\n",
    "    >>> merge([11, 13, 15], [])\n",
    "    [11, 13, 15]\n",
    "\n",
    "    >>> merge([], [16, 18, 20])\n",
    "    [16, 18, 20]\n",
    "    \"\"\"\n",
    "    pass\n",
    "    merged = []\n",
    "    i = 0\n",
    "    j = 0\n",
    "    \n",
    "    while i < len(lst1) and j < len(lst2):\n",
    "        if lst1[i] < lst2[j]:\n",
    "            merged.append(lst1[i])\n",
    "            i += 1\n",
    "        else:\n",
    "            merged.append(lst2[j])\n",
    "            j += 1\n",
    "    \n",
    "    while i < len(lst1):\n",
    "        merged.append(lst1[i])\n",
    "        i += 1\n",
    "    \n",
    "    while j < len(lst2):\n",
    "        merged.append(lst2[j])\n",
    "        j += 1\n",
    "    \n",
    "    return merged\n",
    "\n",
    "\n",
    "# Task 1B - Merge Sort\n",
    "def merge_sort(lst):\n",
    "    \"\"\"\n",
    "    Input: list of elements\n",
    "    Output: Sorted list of elements\n",
    "    >>> merge_sort([3, 7, 9, 6, 2, 5, 4, 1, 8])\n",
    "    [1, 2, 3, 4, 5, 6, 7, 8, 9]\n",
    "\n",
    "    >>> merge_sort([11, 0, 1, 5, 7, 2])\n",
    "    [0, 1, 2, 5, 7, 11]\n",
    "\n",
    "    >>> merge_sort([10, 9, 8, 7, 6, 5, 4, 3, 2, 1, 0])\n",
    "    [0, 1, 2, 3, 4, 5, 6, 7, 8, 9, 10]\n",
    "    \"\"\"\n",
    "    pass\n",
    "    if len(lst) <= 1:\n",
    "        return lst\n",
    "    mid = len(lst) // 2\n",
    "    left = lst[:mid]\n",
    "    right = lst[mid:]\n",
    "    \n",
    "    left = merge_sort(left)\n",
    "    right = merge_sort(right)\n",
    "    return merge(left, right)\n",
    "\n",
    "merge_sort([11, 0, 1, 5, 7, 2])\n",
    "timeit.timeit(merge_sort([11, 0, 1, 5, 7, 2]))"
   ]
  },
  {
   "cell_type": "code",
   "execution_count": 14,
   "metadata": {},
   "outputs": [
    {
     "name": "stdout",
     "output_type": "stream",
     "text": [
      "{'non-decreasing': 2.0265579223632812e-05, 'decreasing': 5.9604644775390625e-06, 'random': 9.393692016601562e-05}\n"
     ]
    }
   ],
   "source": [
    "import timeit\n",
    "import random\n",
    "import time\n",
    "\n",
    "def sort_analysis(func, n):\n",
    "    \"\"\"\n",
    "    Input: The sort function as an argument and 'n' which represents the\n",
    "           no. of elements of the input lists you will create.\n",
    "    Output: A dictionary of the sorting order (i.e., keys) and times (i.e., values)\n",
    "            for the specific sort.\n",
    "\n",
    "    ANALYSIS: <WRITE YOUR PARAGRAPH HERE>\n",
    "    \"\"\"\n",
    "    non_decreasing = list(range(1, n + 1))\n",
    "    # Decreasing list: [n, n - 1, n - 2, ..., 1]\n",
    "    decreasing = list(reversed(non_decreasing))\n",
    "    # Random list: a shuffled copy of the non-decreasing list\n",
    "    # Use a fixed seed for reproducibility\n",
    "    random.seed(0)\n",
    "    random_list = non_decreasing.copy()\n",
    "    random.shuffle(random_list)\n",
    "\n",
    "    # Initialize an empty dictionary to store the run times\n",
    "    run_times = {}\n",
    "\n",
    "    # Measure the run time of the sorting function on the non-decreasing list\n",
    "    # Use the time module to get the current time before and after the function call\n",
    "    # Calculate the difference and store it in the dictionary\n",
    "    start = time.time()\n",
    "    func(non_decreasing)\n",
    "    end = time.time()\n",
    "    run_times['non-decreasing'] = end - start\n",
    "\n",
    "    # Repeat the same process for the decreasing and random lists\n",
    "    start = time.time()\n",
    "    func(decreasing)\n",
    "    end = time.time()\n",
    "    run_times['decreasing'] = end - start\n",
    "\n",
    "    start = time.time()\n",
    "    func(random_list)\n",
    "    end = time.time()\n",
    "    run_times['random'] = end - start\n",
    "\n",
    "    # Return the dictionary of run times\n",
    "    return run_times\n",
    "\n",
    "# Example usage:\n",
    "def my_sort_function(lst):\n",
    "    # Replace this with your own sorting algorithm implementation\n",
    "    return sorted(lst)\n",
    "\n",
    "n = 1000\n",
    "result = sort_analysis(my_sort_function, n)\n",
    "print(result)\n"
   ]
  },
  {
   "cell_type": "code",
   "execution_count": null,
   "metadata": {},
   "outputs": [],
   "source": [
    "def insertion_sort(lst):\n",
    "    \"\"\"\n",
    "    Input: Unsorted list of elements\n",
    "    Output: Sorted list of elements using insertion sort algorithm\n",
    "    \"\"\"\n",
    "    for i in range(1, len(lst)):\n",
    "        key = lst[i]\n",
    "        j = i - 1\n",
    "        while j >= 0 and lst[j] > key:\n",
    "            lst[j + 1] = lst[j]\n",
    "            j -= 1\n",
    "        lst[j + 1] = key\n",
    "\n",
    "# Example usage:\n",
    "lst = [5, 2, 8, 3, 1]\n",
    "insertion_sort(lst)\n",
    "print(lst)\n"
   ]
  }
 ],
 "metadata": {
  "kernelspec": {
   "display_name": "Python 3",
   "language": "python",
   "name": "python3"
  },
  "language_info": {
   "codemirror_mode": {
    "name": "ipython",
    "version": 3
   },
   "file_extension": ".py",
   "mimetype": "text/x-python",
   "name": "python",
   "nbconvert_exporter": "python",
   "pygments_lexer": "ipython3",
   "version": "3.12.0"
  }
 },
 "nbformat": 4,
 "nbformat_minor": 2
}
