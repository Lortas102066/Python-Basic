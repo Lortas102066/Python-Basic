{
 "cells": [
  {
   "cell_type": "code",
   "execution_count": 3,
   "metadata": {},
   "outputs": [
    {
     "name": "stdout",
     "output_type": "stream",
     "text": [
      "6\n"
     ]
    }
   ],
   "source": [
    "def next_triangular_number(num):\n",
    "    total_num = 0\n",
    "    adding_number = 1\n",
    "    while num >= total_num:\n",
    "            total_num = total_num + adding_number\n",
    "            adding_number = adding_number + 1\n",
    "    print(int(total_num))\n",
    "            \n",
    "next_triangular_number(3)"
   ]
  },
  {
   "cell_type": "code",
   "execution_count": 4,
   "metadata": {},
   "outputs": [
    {
     "name": "stdout",
     "output_type": "stream",
     "text": [
      "6\n"
     ]
    }
   ],
   "source": [
    "def next_triangular_number(num):\n",
    "    total_num = 0\n",
    "    increment = 1  # This will help generate the next triangular numbers\n",
    "    while total_num <= num:\n",
    "        total_num += increment\n",
    "        increment += 1\n",
    "    print(total_num)\n",
    "\n",
    "next_triangular_number(3)\n"
   ]
  },
  {
   "cell_type": "code",
   "execution_count": 5,
   "metadata": {},
   "outputs": [
    {
     "ename": "IndentationError",
     "evalue": "unexpected indent (3544472318.py, line 88)",
     "output_type": "error",
     "traceback": [
      "\u001b[0;36m  Cell \u001b[0;32mIn[5], line 88\u001b[0;36m\u001b[0m\n\u001b[0;31m    \"\"\"\u001b[0m\n\u001b[0m    ^\u001b[0m\n\u001b[0;31mIndentationError\u001b[0m\u001b[0;31m:\u001b[0m unexpected indent\n"
     ]
    }
   ],
   "source": [
    "from random import random\n",
    "'''\n",
    "DO NOT CHANGE THE NAME OF THIS FILE, or else the tester will not work. \n",
    "The first function requires that you replace the given strings with\n",
    "your personal details. It is important that you enter your student number\n",
    "and your student email correctly. If your number and email do not match we\n",
    "will then check your name, so your name acts as a failsafe.\n",
    "'''\n",
    "# Student details\n",
    "def details():\n",
    "    student_number = '33554714' #write your student number as a string\n",
    "    student_email = 'mmor0077' + '@student.monash.edu' #write your student email\n",
    "    name = 'Mitsuki Morinaga' #write your name as it appears on Moodle\n",
    "    return str(student_number), student_email, name\n",
    "\n",
    "###Task 1\n",
    "def calculate(x,y,operator):\n",
    "    if operator == '+':\n",
    "        result = x + y\n",
    "    elif operator == '-':\n",
    "        result = x - y\n",
    "    elif operator == '/':\n",
    "        result = x / y\n",
    "    elif operator == '%':\n",
    "        result = x % y\n",
    "    elif operator == '*':\n",
    "        result = x * y\n",
    "\n",
    "\n",
    "###Task 2\n",
    "def is_leap_year(year):\n",
    "    \"\"\"\n",
    "    >>> is_leap_year(1)\n",
    "    False\n",
    "    >>> is_leap_year(100)\n",
    "    False\n",
    "    >>> is_leap_year(2000)\n",
    "    True\n",
    "    >>> is_leap_year(2019)\n",
    "    False\n",
    "    >>> is_leap_year(2040)\n",
    "    True\n",
    "    >>> is_leap_year(2100)\n",
    "    False\n",
    "    \"\"\"\n",
    "    pass\n",
    "\n",
    "def leap_year_answer(year):\n",
    "    if year % 4 == 0 and year != 100:\n",
    "        return True\n",
    "        if year < 2020:\n",
    "            print('Year' + year + ' was a leap year')\n",
    "        else: \n",
    "            print('Year' + year + ' will be a leap year')\n",
    "    else:\n",
    "        return False\n",
    "        if year < 2020:\n",
    "            print('Year' + year + ' was not a leap year')\n",
    "        else: \n",
    "            print('Year' + year + ' will not be a leap year')\n",
    "    \"\"\"\n",
    "    >>> leap_year_answer(1)\n",
    "    'Year 1 was not a leap year'\n",
    "    >>> leap_year_answer(100)\n",
    "    'Year 100 was not a leap year'\n",
    "    >>> leap_year_answer(2000)\n",
    "    'Year 2000 was a leap year'\n",
    "    >>> leap_year_answer(2019)\n",
    "    'Year 2019 was not a leap year'\n",
    "    >>> leap_year_answer(2040)\n",
    "    'Year 2040 will be a leap year'\n",
    "    >>> leap_year_answer(2100)\n",
    "    'Year 2100 will not be a leap year'\n",
    "    \"\"\"\n",
    "    pass\n",
    "\n",
    "###Task 3\n",
    "def next_triangular_number(num):\n",
    "    total_num = 0\n",
    "    adding_number = 1\n",
    "    while num >= total_num:\n",
    "            total_num = total_num + adding_number\n",
    "            adding_number = adding_number + 1\n",
    "    print(int(total_num))\n",
    "            \n",
    "next_triangular_number(3)\n",
    "            \n",
    "    \"\"\"\n",
    "    >>> next_triangular_number(5)\n",
    "    6\n",
    "    >>> next_triangular_number(25)\n",
    "    28\n",
    "    >>> next_triangular_number(40)\n",
    "    45\n",
    "    >>> next_triangular_number(2000)\n",
    "    2016\n",
    "    \"\"\"\n",
    "    pass\n",
    "\n",
    "###Task 4\n",
    "def add(numbers):\n",
    "    \"\"\"\n",
    "    >>> add([])\n",
    "    0\n",
    "    >>> add([25])\n",
    "    0\n",
    "    >>> add([92, 61, 97, 10, -39])\n",
    "    71\n",
    "    >>> add([-24, -25, -33, 32, -81, -58, 28, -4, -30, -69, 44, -41])\n",
    "    -165\n",
    "    \"\"\"\n",
    "    pass\n",
    "\n",
    "def flip(binary_string):\n",
    "    \"\"\"\n",
    "    >>> flip('')\n",
    "    ''\n",
    "    >>> flip('01')\n",
    "    '10'\n",
    "    >>> flip('101')\n",
    "    '010'\n",
    "    >>> flip('001011111111')\n",
    "    '110100000000'\n",
    "    \"\"\"\n",
    "    pass\n",
    "\n",
    "###Task 5 - Extension (OPTIONAL)\n",
    "def n_even_fibonacci(n):\n",
    "    \"\"\"\n",
    "    >>> n_even_fibonacci(0)\n",
    "    []\n",
    "    >>> n_even_fibonacci(5)\n",
    "    [0, 2, 8, 34, 144]\n",
    "    >>> n_even_fibonacci(10)\n",
    "    [0, 2, 8, 34, 144, 610, 2584, 10946, 46368, 196418]\n",
    "    >>> n_even_fibonacci(12)\n",
    "    [0, 2, 8, 34, 144, 610, 2584, 10946, 46368, 196418, 832040, 3524578]\n",
    "    \"\"\"\n",
    "    pass\n",
    "\n",
    "\n",
    "###Challenge - OPTIONAL\n",
    "from math import e\n",
    "def estimate_e(error):\n",
    "    \"\"\"\n",
    "    <WRITE YOUR ANALYSIS HERE>\n",
    "    >>> estimate_e(1)\n",
    "    2.0\n",
    "    >>> estimate_e(0.1)\n",
    "    2.6666666666666665\n",
    "    >>> estimate_e(0.01)\n",
    "    2.708333333333333\n",
    "    >>> estimate_e(0.005)\n",
    "    2.7166666666666663\n",
    "    >>> estimate_e(0.001)\n",
    "    2.7180555555555554\n",
    "    >>> estimate_e(0.0000000001)\n",
    "    2.7182818284467594\n",
    "    \"\"\"\n",
    "    pass\n",
    "\n",
    "if __name__ == \"__main__\":\n",
    "    import doctest\n",
    "    doctest.testmod(verbose=True)\n"
   ]
  },
  {
   "cell_type": "code",
   "execution_count": null,
   "metadata": {},
   "outputs": [
    {
     "ename": "TypeError",
     "evalue": "'int' object is not iterable",
     "output_type": "error",
     "traceback": [
      "\u001b[0;31m---------------------------------------------------------------------------\u001b[0m",
      "\u001b[0;31mTypeError\u001b[0m                                 Traceback (most recent call last)",
      "\u001b[1;32m/Users/mitsukismacbookpro/Documents/Python and Algorithems/test2.ipynb Cell 4\u001b[0m line \u001b[0;36m8\n\u001b[1;32m      <a href='vscode-notebook-cell:/Users/mitsukismacbookpro/Documents/Python%20and%20Algorithems/test2.ipynb#W4sZmlsZQ%3D%3D?line=5'>6</a>\u001b[0m             addition_of_second_number \u001b[39m+\u001b[39m\u001b[39m=\u001b[39m numbers[i]\n\u001b[1;32m      <a href='vscode-notebook-cell:/Users/mitsukismacbookpro/Documents/Python%20and%20Algorithems/test2.ipynb#W4sZmlsZQ%3D%3D?line=6'>7</a>\u001b[0m     \u001b[39mreturn\u001b[39;00m addition_of_second_number\n\u001b[0;32m----> <a href='vscode-notebook-cell:/Users/mitsukismacbookpro/Documents/Python%20and%20Algorithems/test2.ipynb#W4sZmlsZQ%3D%3D?line=7'>8</a>\u001b[0m result \u001b[39m=\u001b[39m add(\u001b[39mlist\u001b[39m)\n\u001b[1;32m      <a href='vscode-notebook-cell:/Users/mitsukismacbookpro/Documents/Python%20and%20Algorithems/test2.ipynb#W4sZmlsZQ%3D%3D?line=8'>9</a>\u001b[0m \u001b[39mprint\u001b[39m(result)\n",
      "\u001b[1;32m/Users/mitsukismacbookpro/Documents/Python and Algorithems/test2.ipynb Cell 4\u001b[0m line \u001b[0;36m4\n\u001b[1;32m      <a href='vscode-notebook-cell:/Users/mitsukismacbookpro/Documents/Python%20and%20Algorithems/test2.ipynb#W4sZmlsZQ%3D%3D?line=1'>2</a>\u001b[0m \u001b[39mdef\u001b[39;00m \u001b[39madd\u001b[39m(numbers):\n\u001b[1;32m      <a href='vscode-notebook-cell:/Users/mitsukismacbookpro/Documents/Python%20and%20Algorithems/test2.ipynb#W4sZmlsZQ%3D%3D?line=2'>3</a>\u001b[0m     addition_of_second_number \u001b[39m=\u001b[39m \u001b[39m0\u001b[39m\n\u001b[0;32m----> <a href='vscode-notebook-cell:/Users/mitsukismacbookpro/Documents/Python%20and%20Algorithems/test2.ipynb#W4sZmlsZQ%3D%3D?line=3'>4</a>\u001b[0m     \u001b[39mfor\u001b[39;00m i \u001b[39min\u001b[39;00m numbers[\u001b[39mlen\u001b[39m(numbers) \u001b[39m-\u001b[39m\u001b[39m1\u001b[39m]:\n\u001b[1;32m      <a href='vscode-notebook-cell:/Users/mitsukismacbookpro/Documents/Python%20and%20Algorithems/test2.ipynb#W4sZmlsZQ%3D%3D?line=4'>5</a>\u001b[0m         \u001b[39mif\u001b[39;00m numbers[i] \u001b[39m%\u001b[39m \u001b[39m2\u001b[39m \u001b[39m==\u001b[39m \u001b[39m0\u001b[39m \u001b[39mand\u001b[39;00m i \u001b[39m!=\u001b[39m \u001b[39m0\u001b[39m:\n\u001b[1;32m      <a href='vscode-notebook-cell:/Users/mitsukismacbookpro/Documents/Python%20and%20Algorithems/test2.ipynb#W4sZmlsZQ%3D%3D?line=5'>6</a>\u001b[0m             addition_of_second_number \u001b[39m+\u001b[39m\u001b[39m=\u001b[39m numbers[i]\n",
      "\u001b[0;31mTypeError\u001b[0m: 'int' object is not iterable"
     ]
    }
   ],
   "source": [
    "list = [0, 2, 4, 5, 8]\n",
    "def add(numbers):\n",
    "    addition_of_second_number = 0\n",
    "    for i in numbers[len(numbers) -1]:\n",
    "        if numbers[i] % 2 == 0 and i != 0:\n",
    "            addition_of_second_number += numbers[i]\n",
    "    return addition_of_second_number\n",
    "result = add(list)\n",
    "print(result)"
   ]
  },
  {
   "cell_type": "code",
   "execution_count": null,
   "metadata": {},
   "outputs": [
    {
     "name": "stdout",
     "output_type": "stream",
     "text": [
      "27\n",
      "8\n"
     ]
    }
   ],
   "source": [
    "list = [0, 2, 4, 5, 8, 9, 10, 11]\n",
    "\n",
    "def add(numbers):\n",
    "    addition_of_second_number = 0\n",
    "    for i in range(1, len(numbers)):\n",
    "        if i % 2 == 1:\n",
    "            addition_of_second_number += numbers[i]\n",
    "    print(addition_of_second_number)\n",
    "\n",
    "add(list)\n",
    "print(len(list))\n"
   ]
  },
  {
   "cell_type": "code",
   "execution_count": null,
   "metadata": {},
   "outputs": [],
   "source": [
    "def leap_year_answer(year):\n",
    "    if year % 4 == 0 and (year % 100 != 0 or year % 100 == 0):\n",
    "        return True\n",
    "        if year < 2020:\n",
    "            print('Year' + year + ' was a leap year')\n",
    "        else: \n",
    "            print('Year' + year + ' will be a leap year')\n",
    "    else:\n",
    "        return False\n",
    "        if year < 2020:\n",
    "            print('Year' + year + ' was not a leap year')\n",
    "        else: \n",
    "            print('Year' + year + ' will not be a leap year')"
   ]
  },
  {
   "cell_type": "code",
   "execution_count": 6,
   "metadata": {},
   "outputs": [
    {
     "name": "stdout",
     "output_type": "stream",
     "text": [
      "2\n",
      "3\n",
      "4\n",
      "5\n",
      "6\n",
      "7\n",
      "8\n",
      "9\n"
     ]
    }
   ],
   "source": [
    "for k in range(2,10):\n",
    "    print(k)"
   ]
  },
  {
   "cell_type": "code",
   "execution_count": 7,
   "metadata": {},
   "outputs": [
    {
     "name": "stdout",
     "output_type": "stream",
     "text": [
      "10\n",
      "8\n",
      "6\n",
      "4\n",
      "2\n",
      "0\n",
      "-2\n",
      "-4\n"
     ]
    }
   ],
   "source": [
    "for k in range(10, -6, -2):\n",
    "    print(k)"
   ]
  },
  {
   "cell_type": "code",
   "execution_count": 10,
   "metadata": {},
   "outputs": [
    {
     "name": "stdout",
     "output_type": "stream",
     "text": [
      "010111\n"
     ]
    }
   ],
   "source": [
    "bin = '101000'\n",
    "flip_num = ''\n",
    "\n",
    "for i in range(len(bin)):\n",
    "    if bin[i] == '0':\n",
    "        flip_num += '1'\n",
    "    elif bin[i] == '1':\n",
    "        flip_num += '0'\n",
    "print(flip_num)"
   ]
  },
  {
   "cell_type": "code",
   "execution_count": 40,
   "metadata": {},
   "outputs": [
    {
     "name": "stdout",
     "output_type": "stream",
     "text": [
      "2\n",
      "8\n",
      "34\n",
      "144\n",
      "610\n",
      "2584\n",
      "10946\n",
      "46368\n",
      "196418\n"
     ]
    }
   ],
   "source": [
    "def n_even_fibonacci(n):\n",
    "    first_num = 0\n",
    "    second_num = 1\n",
    "    answer = 0\n",
    "    even_counter = 0\n",
    "\n",
    "    while even_counter < n:\n",
    "        first_num = second_num\n",
    "        second_num = answer\n",
    "        answer = first_num + second_num\n",
    "        if answer % 2 == 0:\n",
    "            print(answer)\n",
    "            even_counter += 1\n",
    "        else:\n",
    "            0\n",
    "\n",
    "n_even_fibonacci(9)"
   ]
  },
  {
   "cell_type": "code",
   "execution_count": 1,
   "metadata": {},
   "outputs": [
    {
     "name": "stdout",
     "output_type": "stream",
     "text": [
      "8\n"
     ]
    }
   ],
   "source": [
    "def calculate(x,y,operator):\n",
    "    if operator == '+':\n",
    "        result = x + y\n",
    "        print(result)\n",
    "    elif operator == '-':\n",
    "        result = x - y\n",
    "        print(result)\n",
    "    elif operator == '/':\n",
    "        result = x / y\n",
    "        print(result)\n",
    "    elif operator == '%':\n",
    "        result = x % y\n",
    "        print(result)\n",
    "    elif operator == '*':\n",
    "        result = x * y\n",
    "        print(result)\n",
    "\n",
    "calculate(3, 5, '+')"
   ]
  },
  {
   "cell_type": "code",
   "execution_count": null,
   "metadata": {},
   "outputs": [],
   "source": []
  }
 ],
 "metadata": {
  "kernelspec": {
   "display_name": "base",
   "language": "python",
   "name": "python3"
  },
  "language_info": {
   "codemirror_mode": {
    "name": "ipython",
    "version": 3
   },
   "file_extension": ".py",
   "mimetype": "text/x-python",
   "name": "python",
   "nbconvert_exporter": "python",
   "pygments_lexer": "ipython3",
   "version": "3.11.4"
  }
 },
 "nbformat": 4,
 "nbformat_minor": 2
}
