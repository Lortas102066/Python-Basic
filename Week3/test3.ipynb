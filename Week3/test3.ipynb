{
 "cells": [
  {
   "cell_type": "code",
   "execution_count": 2,
   "metadata": {
    "ExecuteTime": {
     "end_time": "2023-10-30T06:01:42.872097Z",
     "start_time": "2023-10-30T06:01:42.722652Z"
    }
   },
   "outputs": [],
   "source": [
    "def partial_sum(start, end, step):\n",
    "    current_val = start\n",
    "    answer = 0\n",
    "    while current_val <= end:\n",
    "        answer = answer + current_val\n",
    "        current_val += step\n",
    "        \n",
    "        print(answer)\n",
    "        "
   ]
  },
  {
   "cell_type": "code",
   "execution_count": null,
   "metadata": {},
   "outputs": [],
   "source": [
    "def reverse_strings(my_list):\n",
    "    reverse_index = -1\n",
    "    answer = ''\n",
    "    for i in range(len(my_list)):\n",
    "        answer += my_list[reverse_index]\n",
    "        reverse_index += -1\n",
    "    print(answer)\n",
    "reverse_strings(['00','11','22','33'])\n"
   ]
  },
  {
   "cell_type": "code",
   "execution_count": null,
   "metadata": {},
   "outputs": [],
   "source": [
    "def complete(my_list):\n",
    "    first_num = my_list[0]\n",
    "    last_num = my_list[-1]\n",
    "    loop_val = 0\n",
    "    current_num = 0\n",
    "    while current_num < last_num:\n",
    "        current_num = first_num + loop_val\n",
    "        print(current_num)\n",
    "        loop_val += 1\n",
    "        \n",
    "complete([2, 50])"
   ]
  },
  {
   "cell_type": "code",
   "execution_count": null,
   "metadata": {},
   "outputs": [],
   "source": [
    "def addition_table(numbers):\n",
    "    add_num = 1\n",
    "    answer_index_val = 0\n",
    "    answer = []\n",
    "    while add_num <= 3:\n",
    "        for i in range(len(numbers)):\n",
    "            answer.append(numbers[i] + add_num)\n",
    "        print(answer)\n",
    "        answer.clear()\n",
    "        add_num += 1\n",
    "\n",
    "addition_table([2, 5, -3, 7])"
   ]
  },
  {
   "cell_type": "code",
   "execution_count": null,
   "metadata": {},
   "outputs": [],
   "source": [
    "def file_read(filename):\n",
    "    fileReader = open(filename)\n",
    "    content = []\n",
    "    for line in fileReader:\n",
    "        content.append(line)\n",
    "    fileReader.close()\n",
    "    print(content)\n",
    "    \n",
    "file_read('food.txt')"
   ]
  },
  {
   "cell_type": "code",
   "execution_count": null,
   "metadata": {},
   "outputs": [],
   "source": [
    "s='      jas;ldjkfaosj       klasjd     aosdjfo     '\n",
    "print(s.strip())"
   ]
  },
  {
   "cell_type": "code",
   "execution_count": 24,
   "metadata": {},
   "outputs": [],
   "source": [
    "def list_from_file(fname, num = False):\n",
    "    file = open(fname)\n",
    "    rs = []\n",
    "    for l in file:\n",
    "        if num:\n",
    "            rs + [float(l.strip())]\n",
    "        else:\n",
    "            rs = rs + [l.strip()]\n",
    "    file.close()\n",
    "    return rs\n"
   ]
  },
  {
   "cell_type": "code",
   "execution_count": null,
   "metadata": {},
   "outputs": [],
   "source": [
    "def hours_to_legal_limit(bal):\n",
    "    count = 0\n",
    "    limit_time = 0.05\n",
    "    drop_val = 0.015\n",
    "    time_to_limit = bal - limit_time\n",
    "    while time_to_limit >= 0:\n",
    "        count += 1\n",
    "        print (str(count) + ' hour')\n",
    "        time_to_limit = time_to_limit - drop_val\n",
    "        \n",
    "hours_to_legal_limit(1.19)\n",
    "        \n",
    "        \n",
    "        "
   ]
  },
  {
   "cell_type": "code",
   "execution_count": null,
   "metadata": {},
   "outputs": [],
   "source": [
    "def make_my_list(N):\n",
    "    inner_list = [None]*N #create inner_list with room for N elements \n",
    "    outer_list = [None]*N #create outer_list with room for N elements \n",
    "    for i in range(0,N):\n",
    "        inner_list[i] = 0 \n",
    "    for i in range(0,N):\n",
    "        outer_list[i] = inner_list \n",
    "    for i in range(0, N):\n",
    "        for j in range(0, N): \n",
    "            outer_list[i][j] = N*i + j\n",
    "            return outer_list\n",
    "            \n",
    "print(make_my_list(7))"
   ]
  },
  {
   "cell_type": "code",
   "execution_count": null,
   "metadata": {},
   "outputs": [],
   "source": [
    "def multiplication_table(x):\n",
    "  multiplication_table = []\n",
    "  for i in range(1, x+1):\n",
    "    row = [] \n",
    "    for j in range(1, x+1):\n",
    "      row.append(i*j)\n",
    "    multiplication_table.append(row) \n",
    "  return multiplication_table\n",
    "\n",
    "print(multiplication_table(3))\n"
   ]
  },
  {
   "cell_type": "code",
   "execution_count": 55,
   "metadata": {},
   "outputs": [
    {
     "data": {
      "text/plain": [
       "[[24.0, 24.0, 24.0]]"
      ]
     },
     "execution_count": 55,
     "metadata": {},
     "output_type": "execute_result"
    }
   ],
   "source": [
    "def remove_outliers(table):\n",
    "    big_num = 0\n",
    "    small_num = 0\n",
    "    for i in range(len(table)):\n",
    "        for j in range(len(table[i])):\n",
    "            if big_num < table[i][j]:\n",
    "                big_num = table[i][j]\n",
    "            elif small_num < table[i][j]:\n",
    "                small_num = table[i][j]\n",
    "    for i in range(len(table)):\n",
    "        for j in range(len(table[i])):\n",
    "            if big_num == table[i][j]:\n",
    "                table[i][j] = (small_num + big_num) / 2\n",
    "            elif small_num > table[i][j]:\n",
    "                table[i][j] = (small_num + big_num) / 2\n",
    "        return table[0:1]\n",
    "\n",
    "remove_outliers([[9, 30, 10], [3, 4, 18]])\n",
    "    "
   ]
  },
  {
   "cell_type": "code",
   "execution_count": 72,
   "metadata": {},
   "outputs": [
    {
     "data": {
      "text/plain": [
       "[[9, 16.5, 10], [16.5, 4, 18]]"
      ]
     },
     "execution_count": 72,
     "metadata": {},
     "output_type": "execute_result"
    }
   ],
   "source": [
    "def remove_outliers(table):\n",
    "    max_val = max(max(sublist) for sublist in table)  \n",
    "    min_val = min(min(sublist) for sublist in table)  \n",
    "    average = (max_val + min_val) / 2  \n",
    "    for i in range(len(table)):\n",
    "        for j in range(len(table[i])):\n",
    "            if max_val == table[i][j]:\n",
    "                table[i][j] = average\n",
    "            elif min_val == table[i][j]:\n",
    "                table[i][j] = average\n",
    "    return table\n",
    "remove_outliers([[9, 30, 10], [3, 4, 18]])\n"
   ]
  },
  {
   "cell_type": "code",
   "execution_count": null,
   "metadata": {},
   "outputs": [],
   "source": []
  },
  {
   "cell_type": "code",
   "execution_count": 88,
   "metadata": {},
   "outputs": [
    {
     "data": {
      "text/plain": [
       "[[5, 7, 11], [6, 8, 12], [7, 9, 13]]"
      ]
     },
     "execution_count": 88,
     "metadata": {},
     "output_type": "execute_result"
    }
   ],
   "source": [
    "def addition_table(numbers):\n",
    "    add_nums = [1, 2, 3]\n",
    "    answer3 = []\n",
    "    for i in add_nums:\n",
    "        row = [num + i for num in numbers]\n",
    "        answer3.append(row)\n",
    "    return answer3\n",
    "\n",
    "addition_table([4, 6, 10])"
   ]
  },
  {
   "cell_type": "code",
   "execution_count": null,
   "metadata": {},
   "outputs": [],
   "source": []
  }
 ],
 "metadata": {
  "kernelspec": {
   "display_name": "base",
   "language": "python",
   "name": "python3"
  },
  "language_info": {
   "codemirror_mode": {
    "name": "ipython",
    "version": 3
   },
   "file_extension": ".py",
   "mimetype": "text/x-python",
   "name": "python",
   "nbconvert_exporter": "python",
   "pygments_lexer": "ipython3",
   "version": "3.11.4"
  }
 },
 "nbformat": 4,
 "nbformat_minor": 2
}
