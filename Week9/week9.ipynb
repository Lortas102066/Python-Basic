{
 "cells": [
  {
   "cell_type": "code",
   "execution_count": 5,
   "metadata": {},
   "outputs": [
    {
     "ename": "SyntaxError",
     "evalue": "invalid syntax (2522177843.py, line 22)",
     "output_type": "error",
     "traceback": [
      "\u001b[0;36m  Cell \u001b[0;32mIn[5], line 22\u001b[0;36m\u001b[0m\n\u001b[0;31m    while\u001b[0m\n\u001b[0m          ^\u001b[0m\n\u001b[0;31mSyntaxError\u001b[0m\u001b[0;31m:\u001b[0m invalid syntax\n"
     ]
    }
   ],
   "source": [
    "def pairs_of_sum(lst, s):\n",
    "    \"\"\" Finds pairs of list elements with specific sum.\n",
    "\n",
    "    Input : list of unique integers (lst),\n",
    "            integer (s)\n",
    "    Output: list containing all pairs (x, y) of elements \n",
    "            of lst such that x < y and x + y = s\n",
    "\n",
    "    For example:\n",
    "    >>> pairs_of_sum([7, 1, 25, 10], 5)\n",
    "    []\n",
    "    >>> pairs_of_sum([7, 1, 25, 10], 32)\n",
    "    [(7, 25)]\n",
    "    >>> pairs = pairs_of_sum([-2, 4, 0, 11, 7, 13], 11)\n",
    "    >>> set(pairs) == {(0, 11), (4, 7), (-2, 13)}\n",
    "    True\n",
    "    \"\"\"\n",
    "    pass\n",
    "    lst = sorted(lst)\n",
    "    paredup = []\n",
    "    pointer_a = 0\n",
    "    pointer_b = len(lst) -1\n",
    "        while pointer_a < pointer_b:\n",
    "        if lst[pointer_a] + lst[pointer_b] == s:\n",
    "        paredup.append(lst[pointer_a], lst[pointer_b])\n",
    "        pointer_a += 1\n",
    "        pointer_b -= 1\n",
    "        elif lst[pointer_a] + lst[pointer_b] < s:\n",
    "        pointer_a += 1\n",
    "        else:\n",
    "        pointer_b -= 1\n",
    "        return paredup"
   ]
  },
  {
   "cell_type": "code",
   "execution_count": 9,
   "metadata": {},
   "outputs": [
    {
     "data": {
      "text/plain": [
       "[]"
      ]
     },
     "execution_count": 9,
     "metadata": {},
     "output_type": "execute_result"
    }
   ],
   "source": [
    "def common(a, b):\n",
    "    \"\"\" Computes list of elements common to a and b.\n",
    "\n",
    "    Input : two lists, a and b, each without duplicate\n",
    "            elements\n",
    "    Output: list of all elements x such that\n",
    "            x in a and x in b\n",
    "\n",
    "    For example:\n",
    "    >>> common([5, 46, -25, 3], [2, -1, 10])\n",
    "    []\n",
    "    >>> c = common([8, 5, 27, -2, 10], [-3, 5, -27, 10])\n",
    "    >>> set(c) == {5, 10}\n",
    "    True\n",
    "    \"\"\"\n",
    "    pass\n",
    "    a = sorted(a)\n",
    "    b = sorted(b)\n",
    "    common_list = []\n",
    "    pointer_a = 0\n",
    "    pointer_b = 0\n",
    "    while pointer_a < len(a) and pointer_b < len(b):\n",
    "        if a[pointer_a] == b[pointer_b]:\n",
    "            common_list.append(a[pointer_a])\n",
    "            pointer_a += 1\n",
    "            pointer_b += 1\n",
    "        elif a[pointer_a] < b[pointer_b]:\n",
    "            pointer_a += 1\n",
    "        else:\n",
    "            pointer_b += 1\n",
    "    return common_list\n",
    "\n",
    "common([5, 46, -25, 3], [2, -1, 10])"
   ]
  }
 ],
 "metadata": {
  "kernelspec": {
   "display_name": "Python 3",
   "language": "python",
   "name": "python3"
  },
  "language_info": {
   "codemirror_mode": {
    "name": "ipython",
    "version": 3
   },
   "file_extension": ".py",
   "mimetype": "text/x-python",
   "name": "python",
   "nbconvert_exporter": "python",
   "pygments_lexer": "ipython3",
   "version": "3.12.0"
  }
 },
 "nbformat": 4,
 "nbformat_minor": 2
}
