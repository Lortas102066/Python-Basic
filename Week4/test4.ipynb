{
 "cells": [
  {
   "cell_type": "code",
   "execution_count": 10,
   "metadata": {},
   "outputs": [
    {
     "name": "stdout",
     "output_type": "stream",
     "text": [
      "True\n"
     ]
    }
   ],
   "source": [
    "def is_in(char, string):\n",
    "    for i in string:\n",
    "        if i == char:\n",
    "            return True\n",
    "    return False\n",
    "    \n",
    "print(is_in('e', \"Hello\"))"
   ]
  },
  {
   "cell_type": "code",
   "execution_count": 13,
   "metadata": {},
   "outputs": [
    {
     "name": "stdout",
     "output_type": "stream",
     "text": [
      "[1, 2, 2, 2, 4, 4, 7, 19]\n"
     ]
    }
   ],
   "source": [
    "def insertionSort(aList):\n",
    "    length = len(aList)\n",
    "    for k in range(1, length):\n",
    "        temp = aList[k]\n",
    "        insert = k -1\n",
    "        while insert >= 0 and aList[insert] > temp:\n",
    "            aList[insert+1] = aList[insert]\n",
    "            insert -= 1\n",
    "        aList[insert+1] = temp\n",
    "    return aList\n",
    "\n",
    "my_list = [2, 4, 4, 7, 19, 2, 2, 1]\n",
    "print(insertionSort(my_list))"
   ]
  },
  {
   "cell_type": "code",
   "execution_count": 2,
   "metadata": {},
   "outputs": [
    {
     "data": {
      "text/plain": [
       "23"
      ]
     },
     "execution_count": 2,
     "metadata": {},
     "output_type": "execute_result"
    }
   ],
   "source": [
    "def sum(lst):\n",
    "    \"\"\"\n",
    "    Input: a sequence (list) of numbers lst.\n",
    "    Output: the sum of all numbers in lst.\n",
    "    \"\"\"\n",
    "    total_num = 0\n",
    "    for i in range(len(lst)):\n",
    "        total_num += lst[i]\n",
    "    return total_num\n",
    "\n",
    "sum([9, 3,3 ,4 ,4])"
   ]
  },
  {
   "cell_type": "code",
   "execution_count": 11,
   "metadata": {},
   "outputs": [
    {
     "data": {
      "text/plain": [
       "'PythonInCodeI'"
      ]
     },
     "execution_count": 11,
     "metadata": {},
     "output_type": "execute_result"
    }
   ],
   "source": [
    "s = 'I Code In Python'\n",
    "''.join(s.split()[::-1])\n"
   ]
  },
  {
   "cell_type": "code",
   "execution_count": 28,
   "metadata": {},
   "outputs": [
    {
     "name": "stdout",
     "output_type": "stream",
     "text": [
      "6.8\n"
     ]
    }
   ],
   "source": [
    "table = [[0.0, 0.0, 1.0, 2.4], [0.5, -1.0, 2.0, -1.6],[3.0, -4.0, 5.3, 4.2]]\n",
    "sum = 0\n",
    "for i in range(len(table)):\n",
    "    for j in range(len(table)):\n",
    "        sum += table[i][j]\n",
    "\n",
    "print(sum)\n",
    "        "
   ]
  },
  {
   "cell_type": "code",
   "execution_count": 25,
   "metadata": {},
   "outputs": [
    {
     "name": "stdout",
     "output_type": "stream",
     "text": [
      "[1, 9, 12]\n"
     ]
    }
   ],
   "source": [
    "lst = [4, 3, 1, 8, 9, 0, 12, 6, 7]\n",
    "sublist = lst[2: -2: 2] \n",
    "print(lst[2: -2: 2] )"
   ]
  },
  {
   "cell_type": "code",
   "execution_count": null,
   "metadata": {},
   "outputs": [],
   "source": [
    "if x % 2 == 0:\n",
    "    res = 'power of two'"
   ]
  },
  {
   "cell_type": "code",
   "execution_count": 19,
   "metadata": {},
   "outputs": [
    {
     "data": {
      "text/plain": [
       "[3, 7, 2]"
      ]
     },
     "execution_count": 19,
     "metadata": {},
     "output_type": "execute_result"
    }
   ],
   "source": [
    "def sublist_of_product(lst, x):\n",
    "    prod = 1\n",
    "    start = 0\n",
    "    # loop through the list\n",
    "    for i in range(len(lst)):\n",
    "        # multiply the product by the current element\n",
    "        prod *= lst[i]\n",
    "        # while the product is greater than x, divide it by the first element of the sublist and increment the start index\n",
    "        while prod > x and start <= i:\n",
    "            prod //= lst[start]\n",
    "            start += 1\n",
    "        # if the product is equal to x, return the sublist\n",
    "        if prod == x:\n",
    "            return lst[start:i+1]\n",
    "    # if no sublist is found, return None\n",
    "    return None\n",
    "\n",
    "sublist_of_product([3, 7, 2, 3], 42)\n",
    "\n"
   ]
  },
  {
   "cell_type": "code",
   "execution_count": null,
   "metadata": {},
   "outputs": [],
   "source": [
    "def sublist_of_product(lst, x):\n",
    "    answer = 1\n",
    "    for i in range(len(lst)):\n",
    "        answer *= lst[i]\n",
    "        if answer != x:\n",
    "            for j in range(1, len(lst)):\n",
    "                answer *= lst[j]\n",
    "                if answer != x:\n",
    "                    answer *= lst[j+1]\n",
    "                    if answer != x:\n",
    "                        answer *= lst[j+2]\n",
    "        elif answer == x:\n",
    "            return lst[i]\n",
    "\n",
    "   "
   ]
  },
  {
   "cell_type": "code",
   "execution_count": null,
   "metadata": {},
   "outputs": [],
   "source": [
    "if water_temp <= 0:\n",
    "    water_state = 'solid'\n",
    "    return water_state\n",
    "elif water_temp > 0 and water_temp <= 100:\n",
    "    water_state = 'liquid'\n",
    "    return water_state\n",
    "elif water_temp > 100:\n",
    "    water_state = 'gaseous'\n",
    "    return water_state\n",
    "\n",
    "\n"
   ]
  }
 ],
 "metadata": {
  "kernelspec": {
   "display_name": "base",
   "language": "python",
   "name": "python3"
  },
  "language_info": {
   "codemirror_mode": {
    "name": "ipython",
    "version": 3
   },
   "file_extension": ".py",
   "mimetype": "text/x-python",
   "name": "python",
   "nbconvert_exporter": "python",
   "pygments_lexer": "ipython3",
   "version": "3.11.0"
  }
 },
 "nbformat": 4,
 "nbformat_minor": 2
}
