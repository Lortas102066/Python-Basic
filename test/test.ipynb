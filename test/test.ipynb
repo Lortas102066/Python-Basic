{
 "cells": [
  {
   "cell_type": "code",
   "execution_count": 46,
   "metadata": {},
   "outputs": [
    {
     "name": "stdout",
     "output_type": "stream",
     "text": [
      "[3]\n"
     ]
    }
   ],
   "source": [
    "def route(a, b, tree):\n",
    "    # Function to find the path from a node to the root\n",
    "    def path_to_root(node):\n",
    "        path = []\n",
    "        while node is not None:\n",
    "            path.append(node)\n",
    "            node = tree[node]\n",
    "        return path\n",
    "\n",
    "    # Find paths from a and b to the root\n",
    "    path_a = path_to_root(a)\n",
    "    path_b = path_to_root(b)\n",
    "\n",
    "    # Find the lowest common ancestor (LCA)\n",
    "    lca = None\n",
    "    for node in path_a:\n",
    "        if node in path_b:\n",
    "            lca = node\n",
    "            break\n",
    "\n",
    "    # Construct the full path from a to b\n",
    "    path_to_lca_a = path_a[:path_a.index(lca)]\n",
    "    path_to_lca_b = path_b[:path_b.index(lca) + 1][::-1]\n",
    "    full_path = path_to_lca_a + path_to_lca_b\n",
    "\n",
    "    return full_path\n",
    "\n",
    "tree = [None, 0, 1, 0, 1]\n",
    "\n",
    "print(route(3,3, tree))"
   ]
  },
  {
   "cell_type": "code",
   "execution_count": 47,
   "metadata": {},
   "outputs": [
    {
     "name": "stdout",
     "output_type": "stream",
     "text": [
      "[1, 3, 2, 1, 2, 3, 1, 2, 3, 1, 2]\n"
     ]
    }
   ],
   "source": [
    "def rewards(scores):\n",
    "    \"\"\"\n",
    "    This function calculates the minimum number of rewards for students while satisfying two conditions:\n",
    "    1. Each student gets at least one reward.\n",
    "    2. A student with a higher score than an adjacent student gets more rewards, and vice versa.\n",
    "    \n",
    "    The implementation uses a two-pass algorithm. The first pass assigns rewards from left to right,\n",
    "    ensuring that each student has at least one reward and that students with higher scores than their\n",
    "    left neighbor get more rewards. The second pass goes from right to left, adjusting the rewards to\n",
    "    ensure students with higher scores than their right neighbor get more rewards.\n",
    "    \n",
    "    The loop invariant for both passes is that the rules are satisfied for the processed part of the list.\n",
    "    \"\"\"\n",
    "    n = len(scores)\n",
    "    rewards = [1] * n  # Rule 1: Everyone gets at least one reward initially.\n",
    "    \n",
    "    # First pass: left to right\n",
    "    for i in range(1, n):\n",
    "        if scores[i] > scores[i - 1]:\n",
    "            rewards[i] = rewards[i - 1] + 1\n",
    "    \n",
    "    # Second pass: right to left\n",
    "    for i in range(n - 2, -1, -1):\n",
    "        if scores[i] > scores[i + 1]:\n",
    "            rewards[i] = max(rewards[i], rewards[i + 1] + 1)\n",
    "    \n",
    "    return rewards\n",
    "\n",
    "\n",
    "print( rewards([0, 4, 2, 1, 3, 6, 5, 7, 10, 8, 9]))"
   ]
  },
  {
   "cell_type": "code",
   "execution_count": 48,
   "metadata": {},
   "outputs": [
    {
     "name": "stdout",
     "output_type": "stream",
     "text": [
      "5\n",
      "4\n",
      "3\n",
      "2\n",
      "1\n",
      "0\n"
     ]
    }
   ],
   "source": [
    "for i in range(5,-1,-1):\n",
    "    print(i)"
   ]
  },
  {
   "cell_type": "code",
   "execution_count": 49,
   "metadata": {},
   "outputs": [
    {
     "name": "stdout",
     "output_type": "stream",
     "text": [
      "[('cardigan', 84.0)]\n",
      "[('Shirt', 90.0), ('Skirt', 90.0)]\n"
     ]
    }
   ],
   "source": [
    "def find_products(productData):\n",
    "    cheapest = float('inf')\n",
    "\n",
    "    discounted_prices = [(name, price * (1 - discount / 100)) for name, price, discount in productData]\n",
    "\n",
    "    for i in discounted_prices:\n",
    "        if i[1] < cheapest:\n",
    "            cheapest = i[1]\n",
    "    \n",
    "    result = []\n",
    "    for i in discounted_prices:\n",
    "        if i[1] == cheapest:\n",
    "            result.append((i[0], i[1]))\n",
    "\n",
    "    return result\n",
    "\n",
    "# Example usage\n",
    "database = [('Shirt',100,10.0),('palazzo pants',125,15.0),('Blazer',180,20.0),('cardigan',120,30.0),('Skirt',100,10.0)]\n",
    "print(find_products(database))\n",
    "\n",
    "database = [('Shirt',100,10.0),('palazzo pants',125,15.0),('Blazer',180,20.0),('cardigan',120,8.0),('Skirt',100,10.0)]\n",
    "print(find_products(database))\n"
   ]
  },
  {
   "cell_type": "code",
   "execution_count": 51,
   "metadata": {},
   "outputs": [
    {
     "ename": "IndentationError",
     "evalue": "unindent does not match any outer indentation level (<string>, line 13)",
     "output_type": "error",
     "traceback": [
      "\u001b[0;36m  File \u001b[0;32m<string>:13\u001b[0;36m\u001b[0m\n\u001b[0;31m    result = []\u001b[0m\n\u001b[0m               ^\u001b[0m\n\u001b[0;31mIndentationError\u001b[0m\u001b[0;31m:\u001b[0m unindent does not match any outer indentation level\n"
     ]
    }
   ],
   "source": [
    "def find_products(productsData):\n",
    "\n",
    "       cheapest = float('inf')\n",
    "\n",
    "       discount = [(name, price * (1 - discount / 100)) for name, price, discount_price in productData]\n",
    "\n",
    "       for i in discounted_prices:\n",
    "\n",
    "            if i[1] < cheapest:\n",
    "\n",
    "                cheapest = i[1]\n",
    "\n",
    "        result = []\n",
    "\n",
    "        for i in discounted_prices:\n",
    "\n",
    "             if i[1] == cheapest:\n",
    "\n",
    "                   result.append((i[0], i[1]))\n",
    "\n",
    "        return result"
   ]
  },
  {
   "cell_type": "code",
   "execution_count": null,
   "metadata": {},
   "outputs": [
    {
     "ename": "NameError",
     "evalue": "name 'head' is not defined",
     "output_type": "error",
     "traceback": [
      "\u001b[0;31m---------------------------------------------------------------------------\u001b[0m",
      "\u001b[0;31mNameError\u001b[0m                                 Traceback (most recent call last)",
      "Cell \u001b[0;32mIn[31], line 11\u001b[0m\n\u001b[1;32m      8\u001b[0m         \u001b[38;5;28;01mreturn\u001b[39;00m [(head, head\u001b[38;5;241m*\u001b[39m\u001b[38;5;241m*\u001b[39m\u001b[38;5;241m3\u001b[39m)] \u001b[38;5;241m+\u001b[39m create_tuples(tail)\n\u001b[1;32m     10\u001b[0m \u001b[38;5;66;03m# Example usage\u001b[39;00m\n\u001b[0;32m---> 11\u001b[0m \u001b[38;5;28mprint\u001b[39m(\u001b[43mcreate_tuples\u001b[49m\u001b[43m(\u001b[49m\u001b[43m[\u001b[49m\u001b[38;5;241;43m1\u001b[39;49m\u001b[43m,\u001b[49m\u001b[43m \u001b[49m\u001b[38;5;241;43m2\u001b[39;49m\u001b[43m,\u001b[49m\u001b[43m \u001b[49m\u001b[38;5;241;43m5\u001b[39;49m\u001b[43m,\u001b[49m\u001b[43m \u001b[49m\u001b[38;5;241;43m6\u001b[39;49m\u001b[43m]\u001b[49m\u001b[43m)\u001b[49m)\n\u001b[1;32m     12\u001b[0m \u001b[38;5;28mprint\u001b[39m(create_tuples([\u001b[38;5;241m1\u001b[39m, \u001b[38;5;241m2\u001b[39m, \u001b[38;5;241m0\u001b[39m, \u001b[38;5;241m5\u001b[39m, \u001b[38;5;241m6\u001b[39m]))\n\u001b[1;32m     13\u001b[0m \u001b[38;5;28mprint\u001b[39m(create_tuples([\u001b[38;5;241m1\u001b[39m, \u001b[38;5;241m3\u001b[39m, \u001b[38;5;241m0\u001b[39m, \u001b[38;5;241m4\u001b[39m, \u001b[38;5;241m0\u001b[39m]))\n",
      "Cell \u001b[0;32mIn[31], line 3\u001b[0m, in \u001b[0;36mcreate_tuples\u001b[0;34m(lst)\u001b[0m\n\u001b[1;32m      1\u001b[0m \u001b[38;5;28;01mdef\u001b[39;00m \u001b[38;5;21mcreate_tuples\u001b[39m(lst):\n\u001b[1;32m      2\u001b[0m     current, \u001b[38;5;241m*\u001b[39mtail \u001b[38;5;241m=\u001b[39m lst  \n\u001b[0;32m----> 3\u001b[0m     \u001b[38;5;28;01mif\u001b[39;00m \u001b[43mhead\u001b[49m \u001b[38;5;241m==\u001b[39m \u001b[38;5;241m0\u001b[39m:\n\u001b[1;32m      4\u001b[0m         \u001b[38;5;66;03m# If the head is 0, ignore it and process the rest of the list\u001b[39;00m\n\u001b[1;32m      5\u001b[0m         \u001b[38;5;28;01mreturn\u001b[39;00m create_tuples(tail)\n\u001b[1;32m      6\u001b[0m     \u001b[38;5;28;01melse\u001b[39;00m:\n\u001b[1;32m      7\u001b[0m         \u001b[38;5;66;03m# Otherwise, include the head and its cube, and process the rest of the list\u001b[39;00m\n",
      "\u001b[0;31mNameError\u001b[0m: name 'head' is not defined"
     ]
    }
   ],
   "source": [
    "def create_tuples(lst):\n",
    "    current, *tail = lst  \n",
    "    if head == 0:\n",
    "        # If the head is 0, ignore it and process the rest of the list\n",
    "        return create_tuples(tail)\n",
    "    else:\n",
    "        # Otherwise, include the head and its cube, and process the rest of the list\n",
    "        return [(head, head**3)] + create_tuples(tail)\n",
    "\n",
    "# Example usage\n",
    "print(create_tuples([1, 2, 5, 6]))\n",
    "print(create_tuples([1, 2, 0, 5, 6]))\n",
    "print(create_tuples([1, 3, 0, 4, 0]))\n"
   ]
  },
  {
   "cell_type": "code",
   "execution_count": null,
   "metadata": {},
   "outputs": [
    {
     "name": "stdout",
     "output_type": "stream",
     "text": [
      "2\n",
      "3\n",
      "None\n"
     ]
    }
   ],
   "source": [
    "def occur_simultaneous(event1, event2):\n",
    "    start_time1, finish_time1 = event1[1], event1[2]\n",
    "    start_time2, finish_time2 = event2[1], event2[2]\n",
    "\n",
    "    second_event = max(start_time1, start_time2)\n",
    "    first_finish = min(finish_time1, finish_time2)\n",
    "\n",
    "    if second_event < first_finish:\n",
    "        return first_finish - second_event\n",
    "    else:\n",
    "        return None\n",
    "\n",
    "# Example usage\n",
    "print(occur_simultaneous(['EC1', 0, 3, 10], ['EC2', 1, 4, 12]))\n",
    "print(occur_simultaneous(['EC1', 0, 4, 10], ['EC2', 1, 4, 12]))\n",
    "print(occur_simultaneous(['EC1', 0, 3, 10], ['EC2', 4, 6, 12]))\n"
   ]
  },
  {
   "cell_type": "code",
   "execution_count": null,
   "metadata": {},
   "outputs": [
    {
     "name": "stdout",
     "output_type": "stream",
     "text": [
      "3\n",
      "2\n",
      "3\n"
     ]
    }
   ],
   "source": [
    "def max_parallel_events(events):\n",
    "    max_parallel = 0\n",
    "\n",
    "    for i in range(len(events)):\n",
    "        parallel = 1\n",
    "        for j in range(i + 1, len(events)):\n",
    "            if occur_simultaneous(events[i], events[j]) is not None:\n",
    "                parallel += 1\n",
    "        max_parallel = max(max_parallel, parallel)\n",
    "\n",
    "    return max_parallel\n",
    "\n",
    "events=[['EC1', 0, 2, 10 ] , ['EC2', 3, 6, 12 ], ['EC3', 8, 12, 14 ], ['EC4', 11, 14, 10 ], ['EC5', 13, 16, 13 ], ['EC6', 13, 18, 12 ]]\n",
    "events2 = [['EC1', 0, 2, 10], ['EC2', 3, 4, 12], ['EC3', 1, 4, 14], ['EC4', 6, 8, 10], ['EC5', 9, 12, 13], ['EC6', 13, 18, 12]]\n",
    "events3 = [['EC1', 0, 2, 10], ['EC2', 0, 3, 12], ['EC3', 1, 4, 14], ['EC4', 6, 8, 10], ['EC5', 9, 12, 13], ['EC6', 13, 18, 12]]\n",
    "\n",
    "print(max_parallel_events(events))  # Should print 4\n",
    "print(max_parallel_events(events2))  # Should print 2\n",
    "print(max_parallel_events(events3))"
   ]
  },
  {
   "cell_type": "code",
   "execution_count": null,
   "metadata": {},
   "outputs": [
    {
     "ename": "UnboundLocalError",
     "evalue": "cannot access local variable 'parallel' where it is not associated with a value",
     "output_type": "error",
     "traceback": [
      "\u001b[0;31m---------------------------------------------------------------------------\u001b[0m",
      "\u001b[0;31mUnboundLocalError\u001b[0m                         Traceback (most recent call last)",
      "Cell \u001b[0;32mIn[45], line 27\u001b[0m\n\u001b[1;32m     24\u001b[0m events2 \u001b[38;5;241m=\u001b[39m [[\u001b[38;5;124m'\u001b[39m\u001b[38;5;124mEC1\u001b[39m\u001b[38;5;124m'\u001b[39m, \u001b[38;5;241m0\u001b[39m, \u001b[38;5;241m2\u001b[39m, \u001b[38;5;241m10\u001b[39m], [\u001b[38;5;124m'\u001b[39m\u001b[38;5;124mEC2\u001b[39m\u001b[38;5;124m'\u001b[39m, \u001b[38;5;241m3\u001b[39m, \u001b[38;5;241m4\u001b[39m, \u001b[38;5;241m12\u001b[39m], [\u001b[38;5;124m'\u001b[39m\u001b[38;5;124mEC3\u001b[39m\u001b[38;5;124m'\u001b[39m, \u001b[38;5;241m1\u001b[39m, \u001b[38;5;241m4\u001b[39m, \u001b[38;5;241m14\u001b[39m], [\u001b[38;5;124m'\u001b[39m\u001b[38;5;124mEC4\u001b[39m\u001b[38;5;124m'\u001b[39m, \u001b[38;5;241m6\u001b[39m, \u001b[38;5;241m8\u001b[39m, \u001b[38;5;241m10\u001b[39m], [\u001b[38;5;124m'\u001b[39m\u001b[38;5;124mEC5\u001b[39m\u001b[38;5;124m'\u001b[39m, \u001b[38;5;241m9\u001b[39m, \u001b[38;5;241m12\u001b[39m, \u001b[38;5;241m13\u001b[39m], [\u001b[38;5;124m'\u001b[39m\u001b[38;5;124mEC6\u001b[39m\u001b[38;5;124m'\u001b[39m, \u001b[38;5;241m13\u001b[39m, \u001b[38;5;241m18\u001b[39m, \u001b[38;5;241m12\u001b[39m]]\n\u001b[1;32m     25\u001b[0m events3 \u001b[38;5;241m=\u001b[39m [[\u001b[38;5;124m'\u001b[39m\u001b[38;5;124mEC1\u001b[39m\u001b[38;5;124m'\u001b[39m, \u001b[38;5;241m0\u001b[39m, \u001b[38;5;241m2\u001b[39m, \u001b[38;5;241m10\u001b[39m], [\u001b[38;5;124m'\u001b[39m\u001b[38;5;124mEC2\u001b[39m\u001b[38;5;124m'\u001b[39m, \u001b[38;5;241m0\u001b[39m, \u001b[38;5;241m3\u001b[39m, \u001b[38;5;241m12\u001b[39m], [\u001b[38;5;124m'\u001b[39m\u001b[38;5;124mEC3\u001b[39m\u001b[38;5;124m'\u001b[39m, \u001b[38;5;241m1\u001b[39m, \u001b[38;5;241m4\u001b[39m, \u001b[38;5;241m14\u001b[39m], [\u001b[38;5;124m'\u001b[39m\u001b[38;5;124mEC4\u001b[39m\u001b[38;5;124m'\u001b[39m, \u001b[38;5;241m6\u001b[39m, \u001b[38;5;241m8\u001b[39m, \u001b[38;5;241m10\u001b[39m], [\u001b[38;5;124m'\u001b[39m\u001b[38;5;124mEC5\u001b[39m\u001b[38;5;124m'\u001b[39m, \u001b[38;5;241m9\u001b[39m, \u001b[38;5;241m12\u001b[39m, \u001b[38;5;241m13\u001b[39m], [\u001b[38;5;124m'\u001b[39m\u001b[38;5;124mEC6\u001b[39m\u001b[38;5;124m'\u001b[39m, \u001b[38;5;241m13\u001b[39m, \u001b[38;5;241m18\u001b[39m, \u001b[38;5;241m12\u001b[39m]]\n\u001b[0;32m---> 27\u001b[0m \u001b[38;5;28mprint\u001b[39m(\u001b[43mmax_parallel_events\u001b[49m\u001b[43m(\u001b[49m\u001b[43mevents1\u001b[49m\u001b[43m)\u001b[49m)  \u001b[38;5;66;03m# Should print 4\u001b[39;00m\n\u001b[1;32m     28\u001b[0m \u001b[38;5;28mprint\u001b[39m(max_parallel_events(events2))  \u001b[38;5;66;03m# Should print 2\u001b[39;00m\n\u001b[1;32m     29\u001b[0m \u001b[38;5;28mprint\u001b[39m(max_parallel_events(events3))  \u001b[38;5;66;03m# Should print 3\u001b[39;00m\n",
      "Cell \u001b[0;32mIn[45], line 18\u001b[0m, in \u001b[0;36mmax_parallel_events\u001b[0;34m(events)\u001b[0m\n\u001b[1;32m     16\u001b[0m     \u001b[38;5;28;01mfor\u001b[39;00m j \u001b[38;5;129;01min\u001b[39;00m \u001b[38;5;28mrange\u001b[39m(i \u001b[38;5;241m+\u001b[39m \u001b[38;5;241m1\u001b[39m, \u001b[38;5;28mlen\u001b[39m(events)):\n\u001b[1;32m     17\u001b[0m         \u001b[38;5;28;01mif\u001b[39;00m occur_simultaneous(events[i], events[j]) \u001b[38;5;129;01mis\u001b[39;00m \u001b[38;5;129;01mnot\u001b[39;00m \u001b[38;5;28;01mNone\u001b[39;00m:\n\u001b[0;32m---> 18\u001b[0m             \u001b[43mparallel\u001b[49m \u001b[38;5;241m+\u001b[39m\u001b[38;5;241m=\u001b[39m \u001b[38;5;241m1\u001b[39m\n\u001b[1;32m     20\u001b[0m \u001b[38;5;28;01mreturn\u001b[39;00m same_event\n",
      "\u001b[0;31mUnboundLocalError\u001b[0m: cannot access local variable 'parallel' where it is not associated with a value"
     ]
    }
   ],
   "source": [
    "def occur_simultaneous(event1, event2):\n",
    "    start1, finish1 = event1[1], event1[2]\n",
    "    start2, finish2 = event2[1], event2[2]\n",
    "\n",
    "    later_start = max(start1, start2)\n",
    "    earlier_finish = min(finish1, finish2)\n",
    "\n",
    "    if later_start < earlier_finish:\n",
    "        return earlier_finish - later_start\n",
    "    else:\n",
    "        return None\n",
    "\n",
    "def max_parallel_events(events):\n",
    "    same_event = 0\n",
    "    for i in range(len(events)): \n",
    "        for j in range(i + 1, len(events)):\n",
    "            if occur_simultaneous(events[i], events[j]) is not None:\n",
    "                parallel += 1\n",
    "\n",
    "    return same_event\n",
    "\n",
    "# Example usage\n",
    "events1 = [['EC1', 0, 2, 10], ['EC2', 3, 6, 12], ['EC3', 8, 12, 14], ['EC4', 11, 14, 10], ['EC5', 13, 16, 13], ['EC6', 13, 18, 12]]\n",
    "events2 = [['EC1', 0, 2, 10], ['EC2', 3, 4, 12], ['EC3', 1, 4, 14], ['EC4', 6, 8, 10], ['EC5', 9, 12, 13], ['EC6', 13, 18, 12]]\n",
    "events3 = [['EC1', 0, 2, 10], ['EC2', 0, 3, 12], ['EC3', 1, 4, 14], ['EC4', 6, 8, 10], ['EC5', 9, 12, 13], ['EC6', 13, 18, 12]]\n",
    "\n",
    "print(max_parallel_events(events1))  # Should print 4\n",
    "print(max_parallel_events(events2))  # Should print 2\n",
    "print(max_parallel_events(events3))  # Should print 3\n"
   ]
  },
  {
   "cell_type": "code",
   "execution_count": null,
   "metadata": {},
   "outputs": [
    {
     "ename": "IndexError",
     "evalue": "list index out of range",
     "output_type": "error",
     "traceback": [
      "\u001b[0;31m---------------------------------------------------------------------------\u001b[0m",
      "\u001b[0;31mIndexError\u001b[0m                                Traceback (most recent call last)",
      "Cell \u001b[0;32mIn[43], line 16\u001b[0m\n\u001b[1;32m     13\u001b[0m         \u001b[38;5;28;01mreturn\u001b[39;00m create_tuples(rest)\n\u001b[1;32m     15\u001b[0m \u001b[38;5;66;03m# Example usage\u001b[39;00m\n\u001b[0;32m---> 16\u001b[0m \u001b[38;5;28mprint\u001b[39m(\u001b[43mcreate_tuples\u001b[49m\u001b[43m(\u001b[49m\u001b[43m[\u001b[49m\u001b[38;5;241;43m1\u001b[39;49m\u001b[43m,\u001b[49m\u001b[43m \u001b[49m\u001b[38;5;241;43m2\u001b[39;49m\u001b[43m,\u001b[49m\u001b[43m \u001b[49m\u001b[38;5;241;43m5\u001b[39;49m\u001b[43m,\u001b[49m\u001b[43m \u001b[49m\u001b[38;5;241;43m9\u001b[39;49m\u001b[43m]\u001b[49m\u001b[43m)\u001b[49m)  \u001b[38;5;66;03m# Should print [(1, 1), (2, 8), (5, 125), (9, 729)]\u001b[39;00m\n\u001b[1;32m     17\u001b[0m \u001b[38;5;28mprint\u001b[39m(create_tuples([\u001b[38;5;241m1\u001b[39m, \u001b[38;5;241m2\u001b[39m, \u001b[38;5;241m0\u001b[39m, \u001b[38;5;241m5\u001b[39m, \u001b[38;5;241m6\u001b[39m]))  \u001b[38;5;66;03m# Should print [(1, 1), (2, 8), (5, 125), (6, 216)]\u001b[39;00m\n\u001b[1;32m     18\u001b[0m \u001b[38;5;28mprint\u001b[39m(create_tuples([\u001b[38;5;241m1\u001b[39m, \u001b[38;5;241m3\u001b[39m, \u001b[38;5;241m0\u001b[39m, \u001b[38;5;241m4\u001b[39m, \u001b[38;5;241m0\u001b[39m]))  \u001b[38;5;66;03m# Should print [(1, 1), (3, 27), (4, 64)]\u001b[39;00m\n",
      "Cell \u001b[0;32mIn[43], line 11\u001b[0m, in \u001b[0;36mcreate_tuples\u001b[0;34m(lst)\u001b[0m\n\u001b[1;32m      8\u001b[0m rest \u001b[38;5;241m=\u001b[39m lst[\u001b[38;5;241m1\u001b[39m:]\n\u001b[1;32m     10\u001b[0m \u001b[38;5;28;01mif\u001b[39;00m current \u001b[38;5;241m!=\u001b[39m \u001b[38;5;241m0\u001b[39m:\n\u001b[0;32m---> 11\u001b[0m     \u001b[38;5;28;01mreturn\u001b[39;00m [(current, current\u001b[38;5;241m*\u001b[39m\u001b[38;5;241m*\u001b[39m\u001b[38;5;241m3\u001b[39m)] \u001b[38;5;241m+\u001b[39m \u001b[43mcreate_tuples\u001b[49m\u001b[43m(\u001b[49m\u001b[43mrest\u001b[49m\u001b[43m)\u001b[49m\n\u001b[1;32m     12\u001b[0m \u001b[38;5;28;01melse\u001b[39;00m:\n\u001b[1;32m     13\u001b[0m     \u001b[38;5;28;01mreturn\u001b[39;00m create_tuples(rest)\n",
      "Cell \u001b[0;32mIn[43], line 11\u001b[0m, in \u001b[0;36mcreate_tuples\u001b[0;34m(lst)\u001b[0m\n\u001b[1;32m      8\u001b[0m rest \u001b[38;5;241m=\u001b[39m lst[\u001b[38;5;241m1\u001b[39m:]\n\u001b[1;32m     10\u001b[0m \u001b[38;5;28;01mif\u001b[39;00m current \u001b[38;5;241m!=\u001b[39m \u001b[38;5;241m0\u001b[39m:\n\u001b[0;32m---> 11\u001b[0m     \u001b[38;5;28;01mreturn\u001b[39;00m [(current, current\u001b[38;5;241m*\u001b[39m\u001b[38;5;241m*\u001b[39m\u001b[38;5;241m3\u001b[39m)] \u001b[38;5;241m+\u001b[39m \u001b[43mcreate_tuples\u001b[49m\u001b[43m(\u001b[49m\u001b[43mrest\u001b[49m\u001b[43m)\u001b[49m\n\u001b[1;32m     12\u001b[0m \u001b[38;5;28;01melse\u001b[39;00m:\n\u001b[1;32m     13\u001b[0m     \u001b[38;5;28;01mreturn\u001b[39;00m create_tuples(rest)\n",
      "    \u001b[0;31m[... skipping similar frames: create_tuples at line 11 (1 times)]\u001b[0m\n",
      "Cell \u001b[0;32mIn[43], line 11\u001b[0m, in \u001b[0;36mcreate_tuples\u001b[0;34m(lst)\u001b[0m\n\u001b[1;32m      8\u001b[0m rest \u001b[38;5;241m=\u001b[39m lst[\u001b[38;5;241m1\u001b[39m:]\n\u001b[1;32m     10\u001b[0m \u001b[38;5;28;01mif\u001b[39;00m current \u001b[38;5;241m!=\u001b[39m \u001b[38;5;241m0\u001b[39m:\n\u001b[0;32m---> 11\u001b[0m     \u001b[38;5;28;01mreturn\u001b[39;00m [(current, current\u001b[38;5;241m*\u001b[39m\u001b[38;5;241m*\u001b[39m\u001b[38;5;241m3\u001b[39m)] \u001b[38;5;241m+\u001b[39m \u001b[43mcreate_tuples\u001b[49m\u001b[43m(\u001b[49m\u001b[43mrest\u001b[49m\u001b[43m)\u001b[49m\n\u001b[1;32m     12\u001b[0m \u001b[38;5;28;01melse\u001b[39;00m:\n\u001b[1;32m     13\u001b[0m     \u001b[38;5;28;01mreturn\u001b[39;00m create_tuples(rest)\n",
      "Cell \u001b[0;32mIn[43], line 2\u001b[0m, in \u001b[0;36mcreate_tuples\u001b[0;34m(lst)\u001b[0m\n\u001b[1;32m      1\u001b[0m \u001b[38;5;28;01mdef\u001b[39;00m \u001b[38;5;21mcreate_tuples\u001b[39m(lst):\n\u001b[0;32m----> 2\u001b[0m     current \u001b[38;5;241m=\u001b[39m \u001b[43mlst\u001b[49m\u001b[43m[\u001b[49m\u001b[38;5;241;43m0\u001b[39;49m\u001b[43m]\u001b[49m\n\u001b[1;32m      3\u001b[0m     rest \u001b[38;5;241m=\u001b[39m lst[\u001b[38;5;241m1\u001b[39m:]\n\u001b[1;32m      4\u001b[0m     \u001b[38;5;28;01mif\u001b[39;00m \u001b[38;5;129;01mnot\u001b[39;00m lst:\n",
      "\u001b[0;31mIndexError\u001b[0m: list index out of range"
     ]
    }
   ],
   "source": [
    "def create_tuples(lst):\n",
    "    current = lst[0]\n",
    "    rest = lst[1:]\n",
    "    if not lst:\n",
    "        return []\n",
    "\n",
    "    current = lst[0]\n",
    "    rest = lst[1:]\n",
    "\n",
    "    if current != 0:\n",
    "        return [(current, current**3)] + create_tuples(rest)\n",
    "    else:\n",
    "        return create_tuples(rest)\n",
    "\n",
    "# Example usage\n",
    "print(create_tuples([1, 2, 5, 9]))  # Should print [(1, 1), (2, 8), (5, 125), (9, 729)]\n",
    "print(create_tuples([1, 2, 0, 5, 6]))  # Should print [(1, 1), (2, 8), (5, 125), (6, 216)]\n",
    "print(create_tuples([1, 3, 0, 4, 0]))  # Should print [(1, 1), (3, 27), (4, 64)]\n"
   ]
  },
  {
   "cell_type": "code",
   "execution_count": null,
   "metadata": {},
   "outputs": [],
   "source": []
  }
 ],
 "metadata": {
  "kernelspec": {
   "display_name": "Python 3",
   "language": "python",
   "name": "python3"
  },
  "language_info": {
   "codemirror_mode": {
    "name": "ipython",
    "version": 3
   },
   "file_extension": ".py",
   "mimetype": "text/x-python",
   "name": "python",
   "nbconvert_exporter": "python",
   "pygments_lexer": "ipython3",
   "version": "3.12.0"
  }
 },
 "nbformat": 4,
 "nbformat_minor": 2
}
