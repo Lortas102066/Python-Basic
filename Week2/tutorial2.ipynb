{
 "cells": [
  {
   "cell_type": "code",
   "execution_count": 7,
   "metadata": {},
   "outputs": [],
   "source": [
    "def magic_num(x, y, n):\n",
    "    if x == n or y == n:\n",
    "        return True\n",
    "    elif x + y == n:\n",
    "        return True\n",
    "    elif x - y == n or y-x == n:\n",
    "        return True\n",
    "    else:\n",
    "        return False"
   ]
  },
  {
   "cell_type": "code",
   "execution_count": 12,
   "metadata": {},
   "outputs": [
    {
     "name": "stdout",
     "output_type": "stream",
     "text": [
      "[]\n"
     ]
    }
   ],
   "source": [
    "import math \n",
    "def real_roots(a, b, c):\n",
    "    discriminate = b**2 - (4 * a * c)\n",
    "    if discriminate < 0:\n",
    "        return []\n",
    "    elif discriminate == 0:\n",
    "        retturn [(-b / 2*a)]\n",
    "    else:\n",
    "        return [(-b + discriminate ** 1/2)]\n",
    "    \n",
    "print (real_roots(2, 4,3))"
   ]
  },
  {
   "cell_type": "code",
   "execution_count": null,
   "metadata": {},
   "outputs": [],
   "source": [
    "def icecreams(x, summer):\n",
    "    if summer == True:\n",
    "        if 10-x > 0:\n",
    "            x = 10\n",
    "        else:\n",
    "            return x\n",
    "    elif summer == False:\n",
    "        if 2-x > 0:\n",
    "            x = 2   \n",
    "        else:\n",
    "            return x"
   ]
  },
  {
   "cell_type": "code",
   "execution_count": 3,
   "metadata": {},
   "outputs": [
    {
     "name": "stdout",
     "output_type": "stream",
     "text": [
      "-165\n"
     ]
    }
   ],
   "source": [
    "\n",
    "list = [-24, -25, -33, 32, -81, -58, 28, -4, -30, -69, 44, -41]\n",
    "def add(numbers):\n",
    "    addition_of_second_number = 0\n",
    "    for i in range(1, len(numbers)):\n",
    "        if i % 2 == 1:\n",
    "            addition_of_second_number += numbers[i]\n",
    "    print(addition_of_second_number)\n",
    "add(list)"
   ]
  },
  {
   "cell_type": "code",
   "execution_count": 6,
   "metadata": {},
   "outputs": [
    {
     "name": "stdout",
     "output_type": "stream",
     "text": [
      "71\n"
     ]
    }
   ],
   "source": [
    "def add(numbers):\n",
    "    addition_of_second_number = 0\n",
    "    for i in range(1, len(numbers)):\n",
    "        if i % 2 == 1:\n",
    "            addition_of_second_number += numbers[i]\n",
    "    print(addition_of_second_number)\n",
    "    \n",
    "add([92, 61, 97, 10, -39])"
   ]
  },
  {
   "cell_type": "code",
   "execution_count": null,
   "metadata": {},
   "outputs": [],
   "source": []
  }
 ],
 "metadata": {
  "kernelspec": {
   "display_name": "base",
   "language": "python",
   "name": "python3"
  },
  "language_info": {
   "codemirror_mode": {
    "name": "ipython",
    "version": 3
   },
   "file_extension": ".py",
   "mimetype": "text/x-python",
   "name": "python",
   "nbconvert_exporter": "python",
   "pygments_lexer": "ipython3",
   "version": "3.11.4"
  }
 },
 "nbformat": 4,
 "nbformat_minor": 2
}
