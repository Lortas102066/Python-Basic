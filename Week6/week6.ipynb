{
 "cells": [
  {
   "cell_type": "code",
   "execution_count": 2,
   "metadata": {},
   "outputs": [
    {
     "name": "stdout",
     "output_type": "stream",
     "text": [
      "['Ransom', 'Linda', 'Joni', 'Walt']\n"
     ]
    }
   ],
   "source": [
    "def swap(lst, a, b):\n",
    "    swap_case = lst[a]\n",
    "    lst[a] = lst[b]\n",
    "    lst[b] = swap_case\n",
    "    return lst\n",
    "    \n",
    "family = ['Ransom', 'Linda', 'Walt', 'Joni']\n",
    "swap(family, 3, 2)\n",
    "print(family)"
   ]
  },
  {
   "cell_type": "code",
   "execution_count": 3,
   "metadata": {},
   "outputs": [
    {
     "data": {
      "text/plain": [
       "0"
      ]
     },
     "execution_count": 3,
     "metadata": {},
     "output_type": "execute_result"
    }
   ],
   "source": [
    "def find_min(lst, index):\n",
    "    \"\"\"\n",
    "    >>> find_min(['candlestick', 'pipe', 'rope', 'knife', 'wrench'], 2)\n",
    "    3\n",
    "    >>> find_min([1, 3, 5, 11, 7, 3, 2, 6, 2], 3)\n",
    "    6\n",
    "    \"\"\"\n",
    "    pass\n",
    "    min_val = lst[index]\n",
    "    for i in lst[index:]:\n",
    "        if i < min_val:\n",
    "            min_val = i\n",
    "    return lst.index(min_val)\n",
    "find_min(['candlestick', 'pipe', 'rope', 'knife', 'wrench'], 0)"
   ]
  },
  {
   "cell_type": "code",
   "execution_count": 4,
   "metadata": {},
   "outputs": [
    {
     "name": "stdout",
     "output_type": "stream",
     "text": [
      "1\n"
     ]
    }
   ],
   "source": [
    "fam = [1, 3, 5, 11, 7, 3, 2, 6, 2]\n",
    "print(fam.index(3))"
   ]
  },
  {
   "cell_type": "code",
   "execution_count": 5,
   "metadata": {},
   "outputs": [],
   "source": [
    "def selection_sort(arr):\n",
    "    for i in range(len(arr)-1):\n",
    "        min_index = i\n",
    "        for j in range(i + 1, n):\n",
    "            if arr[j] < arr[min_index]:\n",
    "                min_index = j\n",
    "        arr[i], arr[min_index] = arr[min_index], arr[i]\n"
   ]
  },
  {
   "cell_type": "code",
   "execution_count": 1,
   "metadata": {},
   "outputs": [
    {
     "data": {
      "text/plain": [
       "['Andy', 'Red', 'Brooks', 'Tommy']"
      ]
     },
     "execution_count": 1,
     "metadata": {},
     "output_type": "execute_result"
    }
   ],
   "source": [
    "def swap_down(lst, j):\n",
    "    \"\"\"\n",
    "    >>> shawshank = ['Andy', 'Red', 'Tommy', 'Brooks']\n",
    "    >>> swap_down(shawshank, 2)\n",
    "    >>> shawshank\n",
    "    ['Andy', 'Red', 'Tommy', 'Brooks']\n",
    "    >>> swap_down(shawshank, 3)\n",
    "    >>> shawshank\n",
    "    ['Andy', 'Red', 'Brooks', 'Tommy']\n",
    "    \"\"\"\n",
    "    pass\n",
    "    if lst[j] < lst[j-1]:\n",
    "        lst[j], lst[j-1] = lst[j-1], lst[j]\n",
    "    return(lst)\n",
    "shawshank = ['Andy', 'Red', 'Tommy', 'Brooks']\n",
    "swap_down(shawshank, 3)\n",
    "shawshank"
   ]
  },
  {
   "cell_type": "code",
   "execution_count": 7,
   "metadata": {},
   "outputs": [
    {
     "data": {
      "text/plain": [
       "['Ben', 'Beverly', 'Eddie', 'Bill', 'Richie', 'Stanley', 'Mike']"
      ]
     },
     "execution_count": 7,
     "metadata": {},
     "output_type": "execute_result"
    }
   ],
   "source": [
    "def shuffle_down(lst, k):\n",
    "    \"\"\"\n",
    "    >>> club = ['Ben', 'Eddie', 'Bill', 'Richie', 'Stanley', 'Beverly', 'Mike']\n",
    "    >>> shuffle_down(club, 5)\n",
    "    >>> club\n",
    "    ['Ben', 'Beverly', 'Eddie', 'Bill', 'Richie', 'Stanley', 'Mike']\n",
    "    \"\"\"\n",
    "    pass\n",
    "    while lst[k] < lst[k-1]:\n",
    "        if lst[k] < lst[k-1]:\n",
    "            lst[k], lst[k-1] = lst[k-1], lst[k]\n",
    "            k -= 1\n",
    "    return lst\n",
    "club = ['Ben', 'Eddie', 'Bill', 'Richie', 'Stanley', 'Beverly', 'Mike']\n",
    "shuffle_down(club, 5)"
   ]
  },
  {
   "cell_type": "code",
   "execution_count": 8,
   "metadata": {},
   "outputs": [
    {
     "data": {
      "text/plain": [
       "['Mike', 'Mike', 'Mike', 'Mike', 'Will']"
      ]
     },
     "execution_count": 8,
     "metadata": {},
     "output_type": "execute_result"
    }
   ],
   "source": [
    "def insertion_sort(lst):\n",
    "    \"\"\"\n",
    "    >>> hawkins = ['Mike', 'Eleven', 'Dustin', 'Lucas', 'Will']\n",
    "    >>> insertion_sort(hawkins)\n",
    "    >>> hawkins\n",
    "    ['Dustin', 'Eleven', 'Lucas', 'Mike', 'Will']\n",
    "    \"\"\"\n",
    "    pass\n",
    "    for i in range(1, len(lst)):\n",
    "        j = i - 1\n",
    "        while j >= 0 and lst[j] > lst[i]:\n",
    "            lst[j + 1] = lst[j]\n",
    "            j -= 1\n",
    "        lst[j + 1] = lst[i]\n",
    "    return lst\n",
    "hawkins = ['Mike', 'Eleven', 'Dustin', 'Lucas', 'Will']\n",
    "insertion_sort(hawkins)"
   ]
  },
  {
   "cell_type": "code",
   "execution_count": 9,
   "metadata": {},
   "outputs": [
    {
     "data": {
      "text/plain": [
       "2"
      ]
     },
     "execution_count": 9,
     "metadata": {},
     "output_type": "execute_result"
    }
   ],
   "source": [
    "def degree(graph, v):\n",
    "    \"\"\"\n",
    "    >>> friends = [[0, 1, 1, 1, 0],\n",
    "    ...            [1, 0, 0, 0, 0],\n",
    "    ...            [1, 0, 0, 1, 1],\n",
    "    ...            [1, 0, 1, 0, 1],\n",
    "    ...            [0, 0, 1, 1, 0]]\n",
    "    >>> degree(friends, 0)\n",
    "    3\n",
    "    >>> degree(friends, 1)\n",
    "    1\n",
    "    >>> degree(friends, 4)\n",
    "    2\n",
    "    \"\"\"\n",
    "    pass\n",
    "    count = 0\n",
    "    for i in range(len(graph)):\n",
    "        if graph[v][i] == 1:\n",
    "            count += 1\n",
    "    return count\n",
    "friends = [[0, 1, 1, 1, 0],\n",
    "[1, 0, 0, 0, 0],\n",
    "[1, 0, 0, 1, 1],\n",
    "[1, 0, 1, 0, 1],\n",
    "[0, 0, 1, 1, 0]]\n",
    "degree(friends, 4)"
   ]
  },
  {
   "cell_type": "code",
   "execution_count": 11,
   "metadata": {},
   "outputs": [
    {
     "data": {
      "text/plain": [
       "[2, 3]"
      ]
     },
     "execution_count": 11,
     "metadata": {},
     "output_type": "execute_result"
    }
   ],
   "source": [
    "def shared_friends(graph, u, v):\n",
    "    \"\"\"\n",
    "    >>> friends = [[0, 1, 1, 1, 0],\n",
    "    ...            [1, 0, 0, 0, 0],\n",
    "    ...            [1, 0, 0, 1, 1],\n",
    "    ...            [1, 0, 1, 0, 1],\n",
    "    ...            [0, 0, 1, 1, 0]]\n",
    "    >>> shared_friends(friends, 0, 4)\n",
    "    [2, 3]\n",
    "    \"\"\"\n",
    "    pass\n",
    "    common_friends = []\n",
    "    for i in range(len(graph)):\n",
    "        if graph[u][i] == 1 and graph[v][i] == 1:\n",
    "            common_friends.append(i)\n",
    "    return common_friends\n",
    "shared_friends(friends, 0, 4)            "
   ]
  },
  {
   "cell_type": "code",
   "execution_count": 13,
   "metadata": {},
   "outputs": [
    {
     "data": {
      "text/plain": [
       "False"
      ]
     },
     "execution_count": 13,
     "metadata": {},
     "output_type": "execute_result"
    }
   ],
   "source": [
    "def are_friends(graph, u, v):\n",
    "    \"\"\"\n",
    "    >>> friends = [[0, 1, 1, 1, 0],\n",
    "    ...            [1, 0, 0, 0, 0],\n",
    "    ...            [1, 0, 0, 1, 1],\n",
    "    ...            [1, 0, 1, 0, 1],\n",
    "    ...            [0, 0, 1, 1, 0]]\n",
    "    >>> are_friends(friends, 0, 4)\n",
    "    False\n",
    "    >>> are_friends(friends, 0, 1)\n",
    "    True\n",
    "    \"\"\"\n",
    "    pass\n",
    "    if graph[u][v] == 1 and graph[v][u] == 1:\n",
    "        return True\n",
    "    else:\n",
    "        return False\n",
    "    \n",
    "are_friends(friends, 0, 4)"
   ]
  },
  {
   "cell_type": "code",
   "execution_count": 14,
   "metadata": {},
   "outputs": [
    {
     "data": {
      "text/plain": [
       "True"
      ]
     },
     "execution_count": 14,
     "metadata": {},
     "output_type": "execute_result"
    }
   ],
   "source": [
    "def clique(graph, vertices):\n",
    "    \"\"\"\n",
    "    >>> friends = [[0, 1, 1, 1, 0],\n",
    "    ...            [1, 0, 0, 0, 0],\n",
    "    ...            [1, 0, 0, 1, 1],\n",
    "    ...            [1, 0, 1, 0, 1],\n",
    "    ...            [0, 0, 1, 1, 0]]\n",
    "    >>> clique(friends, [2, 3, 4])\n",
    "    True\n",
    "    >>> clique(friends, [0, 1, 2])\n",
    "    False\n",
    "    \"\"\"\n",
    "    pass\n",
    "    for i in range(len(vertices)):\n",
    "        for j in range(i + 1, len(vertices)):\n",
    "            if not are_friends(graph, vertices[i], vertices[j]):\n",
    "                return False\n",
    "    return True\n",
    "\n",
    "clique(friends, [2, 3, 4])"
   ]
  },
  {
   "cell_type": "code",
   "execution_count": null,
   "metadata": {},
   "outputs": [],
   "source": []
  }
 ],
 "metadata": {
  "kernelspec": {
   "display_name": "Python 3",
   "language": "python",
   "name": "python3"
  },
  "language_info": {
   "codemirror_mode": {
    "name": "ipython",
    "version": 3
   },
   "file_extension": ".py",
   "mimetype": "text/x-python",
   "name": "python",
   "nbconvert_exporter": "python",
   "pygments_lexer": "ipython3",
   "version": "3.0.0"
  }
 },
 "nbformat": 4,
 "nbformat_minor": 2
}
